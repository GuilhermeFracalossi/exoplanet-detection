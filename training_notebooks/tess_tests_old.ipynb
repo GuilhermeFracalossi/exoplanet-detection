{
 "cells": [
  {
   "cell_type": "code",
   "execution_count": 1,
   "id": "9761412f",
   "metadata": {},
   "outputs": [
    {
     "name": "stderr",
     "output_type": "stream",
     "text": [
      "c:\\Users\\Guilherme\\AppData\\Local\\Programs\\Python\\Python313\\Lib\\site-packages\\lightkurve\\prf\\__init__.py:7: UserWarning: Warning: the tpfmodel submodule is not available without oktopus installed, which requires a current version of autograd. See #1452 for details.\n",
      "  warnings.warn(\n"
     ]
    }
   ],
   "source": [
    "import requests\n",
    "import pandas as pd\n",
    "from pathlib import Path\n",
    "import numpy as np\n",
    "import io\n",
    "import os\n",
    "from lightkurve import search_targetpixelfile\n",
    "import  matplotlib.pyplot as plt\n",
    "import lightkurve as lk\n",
    "from tqdm import tqdm\n",
    "import concurrent.futures\n",
    "from sklearn.linear_model import LogisticRegression\n",
    "from sklearn.discriminant_analysis import LinearDiscriminantAnalysis\n",
    "from sklearn.tree import DecisionTreeClassifier\n",
    "from sklearn.ensemble import RandomForestClassifier\n",
    "from sklearn.svm import SVC\n",
    "from xgboost import XGBClassifier\n",
    "from lightgbm import LGBMClassifier\n",
    "from sklearn.neighbors import KNeighborsClassifier\n",
    "from sklearn.ensemble import GradientBoostingClassifier\n",
    "\n",
    "from sklearn.metrics import (\n",
    "\taccuracy_score,\n",
    "\tclassification_report,\n",
    "\troc_auc_score,\n",
    "\taverage_precision_score\n",
    ")\n",
    "import tensorflow as tf\n",
    "\n",
    "\n",
    "\n",
    "pd.set_option('display.max_rows', None)\n",
    "\n",
    "%matplotlib inline\n",
    "\n",
    "import random, os\n",
    "SEED = 42\n",
    "random.seed(SEED)\n",
    "np.random.seed(SEED)\n",
    "tf.random.set_seed(SEED)\n",
    "os.environ['PYTHONHASHSEED'] = str(SEED)"
   ]
  },
  {
   "cell_type": "code",
   "execution_count": 2,
   "id": "de9bdcd6",
   "metadata": {},
   "outputs": [
    {
     "data": {
      "text/html": [
       "<div>\n",
       "<style scoped>\n",
       "    .dataframe tbody tr th:only-of-type {\n",
       "        vertical-align: middle;\n",
       "    }\n",
       "\n",
       "    .dataframe tbody tr th {\n",
       "        vertical-align: top;\n",
       "    }\n",
       "\n",
       "    .dataframe thead th {\n",
       "        text-align: right;\n",
       "    }\n",
       "</style>\n",
       "<table border=\"1\" class=\"dataframe\">\n",
       "  <thead>\n",
       "    <tr style=\"text-align: right;\">\n",
       "      <th></th>\n",
       "      <th>tid</th>\n",
       "      <th>toi</th>\n",
       "      <th>toidisplay</th>\n",
       "      <th>toipfx</th>\n",
       "      <th>ctoi_alias</th>\n",
       "      <th>pl_pnum</th>\n",
       "      <th>tfopwg_disp</th>\n",
       "      <th>st_tmag</th>\n",
       "      <th>st_tmagerr1</th>\n",
       "      <th>st_tmagerr2</th>\n",
       "      <th>...</th>\n",
       "      <th>st_logglim</th>\n",
       "      <th>st_rad</th>\n",
       "      <th>st_raderr1</th>\n",
       "      <th>st_raderr2</th>\n",
       "      <th>st_radsymerr</th>\n",
       "      <th>st_radlim</th>\n",
       "      <th>sectors</th>\n",
       "      <th>toi_created</th>\n",
       "      <th>rowupdate</th>\n",
       "      <th>release_date</th>\n",
       "    </tr>\n",
       "  </thead>\n",
       "  <tbody>\n",
       "    <tr>\n",
       "      <th>0</th>\n",
       "      <td>79748331</td>\n",
       "      <td>1064.01</td>\n",
       "      <td>TOI-1064.01</td>\n",
       "      <td>1064</td>\n",
       "      <td>7.974833e+07</td>\n",
       "      <td>1</td>\n",
       "      <td>CP</td>\n",
       "      <td>10.0059</td>\n",
       "      <td>0.006</td>\n",
       "      <td>-0.006</td>\n",
       "      <td>...</td>\n",
       "      <td>0</td>\n",
       "      <td>0.737189</td>\n",
       "      <td>0.056703</td>\n",
       "      <td>-0.056703</td>\n",
       "      <td>1</td>\n",
       "      <td>0</td>\n",
       "      <td>NaN</td>\n",
       "      <td>2019-08-16 20:20:42</td>\n",
       "      <td>2024-04-25 10:08:01</td>\n",
       "      <td>2025-09-02 21:30:30</td>\n",
       "    </tr>\n",
       "    <tr>\n",
       "      <th>1</th>\n",
       "      <td>79748331</td>\n",
       "      <td>1064.02</td>\n",
       "      <td>TOI-1064.02</td>\n",
       "      <td>1064</td>\n",
       "      <td>7.974833e+07</td>\n",
       "      <td>2</td>\n",
       "      <td>CP</td>\n",
       "      <td>10.0059</td>\n",
       "      <td>0.006</td>\n",
       "      <td>-0.006</td>\n",
       "      <td>...</td>\n",
       "      <td>0</td>\n",
       "      <td>0.737189</td>\n",
       "      <td>0.056703</td>\n",
       "      <td>-0.056703</td>\n",
       "      <td>1</td>\n",
       "      <td>0</td>\n",
       "      <td>NaN</td>\n",
       "      <td>2019-08-16 20:20:42</td>\n",
       "      <td>2024-04-25 10:08:01</td>\n",
       "      <td>2025-09-02 21:30:30</td>\n",
       "    </tr>\n",
       "    <tr>\n",
       "      <th>2</th>\n",
       "      <td>7088246</td>\n",
       "      <td>1065.01</td>\n",
       "      <td>TOI-1065.01</td>\n",
       "      <td>1065</td>\n",
       "      <td>7.088246e+06</td>\n",
       "      <td>1</td>\n",
       "      <td>KP</td>\n",
       "      <td>13.2851</td>\n",
       "      <td>0.006</td>\n",
       "      <td>-0.006</td>\n",
       "      <td>...</td>\n",
       "      <td>0</td>\n",
       "      <td>1.200000</td>\n",
       "      <td>NaN</td>\n",
       "      <td>NaN</td>\n",
       "      <td>1</td>\n",
       "      <td>0</td>\n",
       "      <td>NaN</td>\n",
       "      <td>2019-08-16 20:20:41</td>\n",
       "      <td>2021-10-29 12:59:15</td>\n",
       "      <td>2025-09-02 21:30:30</td>\n",
       "    </tr>\n",
       "    <tr>\n",
       "      <th>3</th>\n",
       "      <td>201604954</td>\n",
       "      <td>1066.01</td>\n",
       "      <td>TOI-1066.01</td>\n",
       "      <td>1066</td>\n",
       "      <td>2.016050e+08</td>\n",
       "      <td>1</td>\n",
       "      <td>KP</td>\n",
       "      <td>11.9707</td>\n",
       "      <td>0.006</td>\n",
       "      <td>-0.006</td>\n",
       "      <td>...</td>\n",
       "      <td>0</td>\n",
       "      <td>1.070000</td>\n",
       "      <td>NaN</td>\n",
       "      <td>NaN</td>\n",
       "      <td>1</td>\n",
       "      <td>0</td>\n",
       "      <td>NaN</td>\n",
       "      <td>2019-08-16 20:20:44</td>\n",
       "      <td>2021-10-29 12:59:15</td>\n",
       "      <td>2025-09-02 21:30:30</td>\n",
       "    </tr>\n",
       "    <tr>\n",
       "      <th>4</th>\n",
       "      <td>201642601</td>\n",
       "      <td>1067.01</td>\n",
       "      <td>TOI-1067.01</td>\n",
       "      <td>1067</td>\n",
       "      <td>2.016426e+08</td>\n",
       "      <td>1</td>\n",
       "      <td>KP</td>\n",
       "      <td>13.1686</td>\n",
       "      <td>0.006</td>\n",
       "      <td>-0.006</td>\n",
       "      <td>...</td>\n",
       "      <td>0</td>\n",
       "      <td>0.767010</td>\n",
       "      <td>NaN</td>\n",
       "      <td>NaN</td>\n",
       "      <td>1</td>\n",
       "      <td>0</td>\n",
       "      <td>NaN</td>\n",
       "      <td>2019-08-16 20:20:44</td>\n",
       "      <td>2024-03-14 16:54:32</td>\n",
       "      <td>2025-09-02 21:30:30</td>\n",
       "    </tr>\n",
       "  </tbody>\n",
       "</table>\n",
       "<p>5 rows × 91 columns</p>\n",
       "</div>"
      ],
      "text/plain": [
       "         tid      toi   toidisplay  toipfx    ctoi_alias  pl_pnum tfopwg_disp  \\\n",
       "0   79748331  1064.01  TOI-1064.01    1064  7.974833e+07        1          CP   \n",
       "1   79748331  1064.02  TOI-1064.02    1064  7.974833e+07        2          CP   \n",
       "2    7088246  1065.01  TOI-1065.01    1065  7.088246e+06        1          KP   \n",
       "3  201604954  1066.01  TOI-1066.01    1066  2.016050e+08        1          KP   \n",
       "4  201642601  1067.01  TOI-1067.01    1067  2.016426e+08        1          KP   \n",
       "\n",
       "   st_tmag  st_tmagerr1  st_tmagerr2  ...  st_logglim    st_rad st_raderr1  \\\n",
       "0  10.0059        0.006       -0.006  ...           0  0.737189   0.056703   \n",
       "1  10.0059        0.006       -0.006  ...           0  0.737189   0.056703   \n",
       "2  13.2851        0.006       -0.006  ...           0  1.200000        NaN   \n",
       "3  11.9707        0.006       -0.006  ...           0  1.070000        NaN   \n",
       "4  13.1686        0.006       -0.006  ...           0  0.767010        NaN   \n",
       "\n",
       "   st_raderr2  st_radsymerr  st_radlim  sectors          toi_created  \\\n",
       "0   -0.056703             1          0      NaN  2019-08-16 20:20:42   \n",
       "1   -0.056703             1          0      NaN  2019-08-16 20:20:42   \n",
       "2         NaN             1          0      NaN  2019-08-16 20:20:41   \n",
       "3         NaN             1          0      NaN  2019-08-16 20:20:44   \n",
       "4         NaN             1          0      NaN  2019-08-16 20:20:44   \n",
       "\n",
       "             rowupdate         release_date  \n",
       "0  2024-04-25 10:08:01  2025-09-02 21:30:30  \n",
       "1  2024-04-25 10:08:01  2025-09-02 21:30:30  \n",
       "2  2021-10-29 12:59:15  2025-09-02 21:30:30  \n",
       "3  2021-10-29 12:59:15  2025-09-02 21:30:30  \n",
       "4  2024-03-14 16:54:32  2025-09-02 21:30:30  \n",
       "\n",
       "[5 rows x 91 columns]"
      ]
     },
     "execution_count": 2,
     "metadata": {},
     "output_type": "execute_result"
    }
   ],
   "source": [
    "\n",
    "BASE_URL = \"https://exoplanetarchive.ipac.caltech.edu/TAP/sync?query=\"\n",
    "QUERY = 'SELECT * FROM toi'\n",
    "requestUrl = BASE_URL + QUERY.replace(' ', '+') + '&format=csv'\n",
    "toiDf = pd.read_csv(requestUrl)\n",
    "\n",
    "toiDf.to_csv('toi.csv', index=False)\n",
    "toiDf.head()\n",
    "\n"
   ]
  },
  {
   "cell_type": "code",
   "execution_count": 3,
   "id": "34896d8a",
   "metadata": {},
   "outputs": [
    {
     "name": "stdout",
     "output_type": "stream",
     "text": [
      "tid                   0.000000\n",
      "toi                   0.000000\n",
      "toidisplay            0.000000\n",
      "toipfx                0.000000\n",
      "ctoi_alias            0.000000\n",
      "pl_pnum               0.000000\n",
      "tfopwg_disp           0.000000\n",
      "st_tmag               0.000000\n",
      "st_tmagerr1           0.000000\n",
      "st_tmagerr2           0.000000\n",
      "st_tmagsymerr         0.000000\n",
      "st_tmaglim            0.000000\n",
      "rastr                 0.000000\n",
      "ra                    0.000000\n",
      "decstr                0.000000\n",
      "dec                   0.000000\n",
      "st_pmra               1.706201\n",
      "st_pmraerr1           1.706201\n",
      "st_pmraerr2           1.706201\n",
      "st_pmrasymerr         1.706201\n",
      "st_pmralim            1.706201\n",
      "st_pmdec              1.706201\n",
      "st_pmdecerr1          1.706201\n",
      "st_pmdecerr2          1.706201\n",
      "st_pmdecsymerr        1.706201\n",
      "st_pmdeclim           1.706201\n",
      "pl_tranmid            0.000000\n",
      "pl_tranmiderr1        0.152587\n",
      "pl_tranmiderr2        0.152587\n",
      "pl_tranmidsymerr      0.000000\n",
      "pl_tranmidlim         0.000000\n",
      "pl_orbper             1.414898\n",
      "pl_orbpererr1         1.706201\n",
      "pl_orbpererr2         1.706201\n",
      "pl_orbpersymerr       0.000000\n",
      "pl_orbperlim          0.000000\n",
      "pl_trandurh           0.000000\n",
      "pl_trandurherr1       0.152587\n",
      "pl_trandurherr2       0.152587\n",
      "pl_trandurhsymerr     0.000000\n",
      "pl_trandurhlim        0.000000\n",
      "pl_trandep            0.000000\n",
      "pl_trandeperr1        0.083229\n",
      "pl_trandeperr2        0.083229\n",
      "pl_trandepsymerr      0.000000\n",
      "pl_trandeplim         0.000000\n",
      "pl_rade               6.505757\n",
      "pl_radeerr1          21.154113\n",
      "pl_radeerr2          21.154113\n",
      "pl_radesymerr         0.000000\n",
      "pl_radelim            0.000000\n",
      "pl_insol              2.316549\n",
      "pl_eqt                3.773061\n",
      "st_dist               2.607851\n",
      "st_disterr1           8.628104\n",
      "st_disterr2           8.628104\n",
      "st_distsymerr         0.000000\n",
      "st_distlim            0.000000\n",
      "st_teff               2.136219\n",
      "st_tefferr1           6.103482\n",
      "st_tefferr2           6.103482\n",
      "st_teffsymerr         0.000000\n",
      "st_tefflim            0.000000\n",
      "st_logg              10.916909\n",
      "st_loggerr1          29.629630\n",
      "st_loggerr2          29.629630\n",
      "st_loggsymerr         0.000000\n",
      "st_logglim            0.000000\n",
      "st_rad                6.519628\n",
      "st_raderr1           25.495908\n",
      "st_raderr2           25.495908\n",
      "st_radsymerr          0.000000\n",
      "st_radlim             0.000000\n",
      "toi_created           0.000000\n",
      "rowupdate             0.000000\n",
      "release_date          0.000000\n",
      "isPlanet              0.000000\n",
      "dtype: float64\n"
     ]
    }
   ],
   "source": [
    "\n",
    "\n",
    "TRUE_PLANETS = ['CP', 'KP', 'PC']\n",
    "\n",
    "FALSE_POSITIVES = ['FP', 'FA']\n",
    "\n",
    "\n",
    "toi_filtered = toiDf[toiDf['tfopwg_disp'].isin(TRUE_PLANETS + FALSE_POSITIVES)].copy()\n",
    "toi_filtered['isPlanet'] = 0\n",
    "\n",
    "toi_filtered.loc[toi_filtered['tfopwg_disp'].isin(TRUE_PLANETS), 'isPlanet'] = 1\n",
    "\n",
    "toi_filtered['isPlanet'].value_counts()\n",
    "\n",
    "missing_values = toi_filtered.isnull().sum()\n",
    "missing_percentage = (missing_values / len(toi_filtered)) * 100\n",
    "\n",
    "\n",
    "# remove all columns that have 100% missing values\n",
    "toi_filtered = toi_filtered.loc[:, missing_percentage < 100]\n",
    "\n",
    "\n",
    "missing_values = toi_filtered.isnull().sum()\n",
    "missing_percentage = (missing_values / len(toi_filtered)) * 100\n",
    "\n",
    "print(missing_percentage)\n"
   ]
  },
  {
   "cell_type": "code",
   "execution_count": 4,
   "id": "97cdb433",
   "metadata": {},
   "outputs": [
    {
     "name": "stdout",
     "output_type": "stream",
     "text": [
      "tid                   0.000000\n",
      "toi                   0.000000\n",
      "toidisplay            0.000000\n",
      "toipfx                0.000000\n",
      "ctoi_alias            0.000000\n",
      "pl_pnum               0.000000\n",
      "tfopwg_disp           0.000000\n",
      "st_tmag               0.000000\n",
      "st_tmagerr1           0.000000\n",
      "st_tmagerr2           0.000000\n",
      "st_tmagsymerr         0.000000\n",
      "st_tmaglim            0.000000\n",
      "rastr                 0.000000\n",
      "ra                    0.000000\n",
      "decstr                0.000000\n",
      "dec                   0.000000\n",
      "st_pmra               1.706201\n",
      "st_pmraerr1           1.706201\n",
      "st_pmraerr2           1.706201\n",
      "st_pmrasymerr         1.706201\n",
      "st_pmralim            1.706201\n",
      "st_pmdec              1.706201\n",
      "st_pmdecerr1          1.706201\n",
      "st_pmdecerr2          1.706201\n",
      "st_pmdecsymerr        1.706201\n",
      "st_pmdeclim           1.706201\n",
      "pl_tranmid            0.000000\n",
      "pl_tranmiderr1        0.152587\n",
      "pl_tranmiderr2        0.152587\n",
      "pl_tranmidsymerr      0.000000\n",
      "pl_tranmidlim         0.000000\n",
      "pl_orbper             1.414898\n",
      "pl_orbpererr1         1.706201\n",
      "pl_orbpererr2         1.706201\n",
      "pl_orbpersymerr       0.000000\n",
      "pl_orbperlim          0.000000\n",
      "pl_trandurh           0.000000\n",
      "pl_trandurherr1       0.152587\n",
      "pl_trandurherr2       0.152587\n",
      "pl_trandurhsymerr     0.000000\n",
      "pl_trandurhlim        0.000000\n",
      "pl_trandep            0.000000\n",
      "pl_trandeperr1        0.083229\n",
      "pl_trandeperr2        0.083229\n",
      "pl_trandepsymerr      0.000000\n",
      "pl_trandeplim         0.000000\n",
      "pl_rade               6.505757\n",
      "pl_radesymerr         0.000000\n",
      "pl_radelim            0.000000\n",
      "pl_insol              2.316549\n",
      "pl_eqt                3.773061\n",
      "st_dist               2.607851\n",
      "st_distsymerr         0.000000\n",
      "st_distlim            0.000000\n",
      "st_teff               2.136219\n",
      "st_tefferr1           6.103482\n",
      "st_tefferr2           6.103482\n",
      "st_teffsymerr         0.000000\n",
      "st_tefflim            0.000000\n",
      "st_logg              10.916909\n",
      "st_loggsymerr         0.000000\n",
      "st_logglim            0.000000\n",
      "st_rad                6.519628\n",
      "st_radsymerr          0.000000\n",
      "st_radlim             0.000000\n",
      "toi_created           0.000000\n",
      "rowupdate             0.000000\n",
      "release_date          0.000000\n",
      "isPlanet              0.000000\n",
      "dtype: float64\n"
     ]
    }
   ],
   "source": [
    "cols_to_remove = ['pl_radeerr1', 'pl_radeerr2','st_disterr1', 'st_disterr2' ,'st_loggerr1', 'st_loggerr2', 'st_raderr1', 'st_raderr2']\n",
    "toi_removed = toi_filtered.drop(columns=cols_to_remove)\n",
    "\n",
    "missing_values = toi_removed.isnull().sum()\n",
    "missing_percentage = (missing_values / len(toi_removed)) * 100\n",
    "print(missing_percentage)"
   ]
  },
  {
   "cell_type": "code",
   "execution_count": 5,
   "id": "70f75948",
   "metadata": {},
   "outputs": [
    {
     "name": "stdout",
     "output_type": "stream",
     "text": [
      "Catálogo carregado. Total de 7209 sinais para processar.\n",
      "Exemplos positivos (isPlanet=1): 5919\n",
      "Exemplos negativos (isPlanet=0): 1290\n"
     ]
    }
   ],
   "source": [
    "\n",
    "print(f\"Catálogo carregado. Total de {len(toi_filtered)} sinais para processar.\")\n",
    "print(f\"Exemplos positivos (isPlanet=1): {len(toi_filtered[toi_filtered['isPlanet'] == 1])}\")\n",
    "print(f\"Exemplos negativos (isPlanet=0): {len(toi_filtered[toi_filtered['isPlanet'] == 0])}\")"
   ]
  },
  {
   "cell_type": "code",
   "execution_count": 6,
   "id": "c91a957e",
   "metadata": {},
   "outputs": [
    {
     "name": "stdout",
     "output_type": "stream",
     "text": [
      "toi\n",
      "01    6918\n",
      "02     225\n",
      "03      50\n",
      "04      13\n",
      "05       3\n",
      "Name: count, dtype: int64\n",
      "Número de estrelas diferentes: 5\n"
     ]
    }
   ],
   "source": [
    "toi_filtered['star_id'] = toi_filtered['toi'].apply(lambda x: str(x)[-2:])\n",
    "\n",
    "print(toi_filtered['toi'].apply(lambda x: str(x)[-2:]).value_counts())\n",
    "print(f\"Número de estrelas diferentes: {toi_filtered['star_id'].nunique()}\")"
   ]
  },
  {
   "cell_type": "code",
   "execution_count": 1,
   "id": "8e936c3a",
   "metadata": {},
   "outputs": [
    {
     "ename": "NameError",
     "evalue": "name 'toi_filtered' is not defined",
     "output_type": "error",
     "traceback": [
      "\u001b[31m---------------------------------------------------------------------------\u001b[39m",
      "\u001b[31mNameError\u001b[39m                                 Traceback (most recent call last)",
      "\u001b[36mCell\u001b[39m\u001b[36m \u001b[39m\u001b[32mIn[1]\u001b[39m\u001b[32m, line 8\u001b[39m\n\u001b[32m      1\u001b[39m features_for_snr = {\n\u001b[32m      2\u001b[39m \t\u001b[33m'\u001b[39m\u001b[33mpl_orbper\u001b[39m\u001b[33m'\u001b[39m: (\u001b[33m'\u001b[39m\u001b[33mpl_orbpererr1\u001b[39m\u001b[33m'\u001b[39m, \u001b[33m'\u001b[39m\u001b[33mpl_orbpererr2\u001b[39m\u001b[33m'\u001b[39m),\n\u001b[32m      3\u001b[39m \t\u001b[33m'\u001b[39m\u001b[33mpl_trandurh\u001b[39m\u001b[33m'\u001b[39m: (\u001b[33m'\u001b[39m\u001b[33mpl_trandurherr1\u001b[39m\u001b[33m'\u001b[39m, \u001b[33m'\u001b[39m\u001b[33mpl_trandurherr2\u001b[39m\u001b[33m'\u001b[39m),\n\u001b[32m      4\u001b[39m \t\u001b[33m'\u001b[39m\u001b[33mpl_trandep\u001b[39m\u001b[33m'\u001b[39m: (\u001b[33m'\u001b[39m\u001b[33mpl_trandeperr1\u001b[39m\u001b[33m'\u001b[39m, \u001b[33m'\u001b[39m\u001b[33mpl_trandeperr2\u001b[39m\u001b[33m'\u001b[39m),\n\u001b[32m      5\u001b[39m \t\u001b[33m'\u001b[39m\u001b[33mst_tmag\u001b[39m\u001b[33m'\u001b[39m: (\u001b[33m'\u001b[39m\u001b[33mst_tmagerr1\u001b[39m\u001b[33m'\u001b[39m, \u001b[33m'\u001b[39m\u001b[33mst_tmagerr2\u001b[39m\u001b[33m'\u001b[39m)\n\u001b[32m      6\u001b[39m }\n\u001b[32m----> \u001b[39m\u001b[32m8\u001b[39m data_engineered = \u001b[43mtoi_filtered\u001b[49m.copy()\n\u001b[32m     10\u001b[39m \u001b[38;5;28;01mfor\u001b[39;00m feature, (err1_col, err2_col) \u001b[38;5;129;01min\u001b[39;00m features_for_snr.items():\n\u001b[32m     11\u001b[39m \t\u001b[38;5;66;03m# Calcula a incerteza média. O erro 2 é negativo por convenção.\u001b[39;00m\n\u001b[32m     12\u001b[39m \tavg_error = (data_engineered[err1_col] - data_engineered[err2_col]) / \u001b[32m2\u001b[39m\n",
      "\u001b[31mNameError\u001b[39m: name 'toi_filtered' is not defined"
     ]
    }
   ],
   "source": [
    "features_for_snr = {\n",
    "\t'pl_orbper': ('pl_orbpererr1', 'pl_orbpererr2'),\n",
    "\t'pl_trandurh': ('pl_trandurherr1', 'pl_trandurherr2'),\n",
    "\t'pl_trandep': ('pl_trandeperr1', 'pl_trandeperr2'),\n",
    "\t'st_tmag': ('st_tmagerr1', 'st_tmagerr2')\n",
    "}\n",
    "\n",
    "data_engineered = toi_filtered.copy()\n",
    "\n",
    "for feature, (err1_col, err2_col) in features_for_snr.items():\n",
    "\t# Calcula a incerteza média. O erro 2 é negativo por convenção.\n",
    "\tavg_error = (data_engineered[err1_col] - data_engineered[err2_col]) / 2\n",
    "\t\n",
    "\t# Calcula a SNR, evitando divisão por zero\n",
    "\tsnr_col_name = f'{feature}_snr'\n",
    "\tdata_engineered[snr_col_name] = data_engineered[feature] / avg_error\n",
    "\tdata_engineered[snr_col_name].replace([np.inf, -np.inf], 0, inplace=True) # Substitui infinitos por 0\n",
    "\n",
    "print(\"Novas colunas de SNR criadas:\")\n",
    "print([col for col in data_engineered.columns if '_snr' in col])\n",
    "\n",
    "\n",
    "# ETAPA 2: Definir a lista final de colunas para remover\n",
    "# Agora a lista é bem menor e mais precisa.\n",
    "final_cols_to_drop = [\n",
    "\t# Identificadores e metadados\n",
    "\t'tid', 'toi', 'toidisplay', 'toipfx', 'ctoi_alias', 'pl_pnum', 'toi_created',\n",
    "\t'rowupdate', 'release_date',\n",
    "\t\n",
    "\t# Coluna fonte do target (evitar data leakage)\n",
    "\t'tfopwg_disp',\n",
    "\t\n",
    "\t# Coordenadas redundantes (formato string)\n",
    "\t'rastr', 'decstr',\n",
    "\t\n",
    "\t# Colunas de erro que já foram usadas para criar a SNR\n",
    "\t'pl_orbpererr1', 'pl_orbpererr2', 'pl_trandurherr1', 'pl_trandurherr2',\n",
    "\t'pl_trandeperr1', 'pl_trandeperr2', 'st_tmagerr1', 'st_tmagerr2',\n",
    "\n",
    "\t# Colunas de erro simétrico (para simplificar, já temos a SNR)\n",
    "\t'st_pmrasymerr', 'st_pmdecsymerr', 'pl_tranmidsymerr', 'pl_orbpersymerr',\n",
    "\t'pl_trandurhsymerr', 'pl_trandepsymerr', 'pl_radesymerr', 'st_distsymerr',\n",
    "\t'st_teffsymerr', 'st_loggsymerr', 'st_radsymerr'\n",
    "]\n",
    "\n",
    "# Remover apenas as colunas que existem no DataFrame\n",
    "final_cols_to_drop_existing = [col for col in final_cols_to_drop if col in data_engineered.columns]\n",
    "data_for_model = data_engineered.drop(columns=final_cols_to_drop_existing)\n",
    "\n",
    "print(\"\\nNúmero de features final para o modelo:\", data_for_model.shape[1] - 1) # -1 para excluir a coluna 'isPlanet'\n",
    "print(\"Features finais (amostra):\")\n",
    "print(data_for_model.columns.tolist())\n",
    "\n",
    "\n"
   ]
  },
  {
   "cell_type": "code",
   "execution_count": 8,
   "id": "e5cd0e58",
   "metadata": {},
   "outputs": [
    {
     "name": "stdout",
     "output_type": "stream",
     "text": [
      "Após remoção de nulos, total de 7209 sinais para processar.\n"
     ]
    }
   ],
   "source": [
    "data_null_removed = data_for_model.dropna().copy()\n",
    "print(f\"Após remoção de nulos, total de {len(data_for_model)} sinais para processar.\")"
   ]
  },
  {
   "cell_type": "code",
   "execution_count": 9,
   "id": "b874af9d",
   "metadata": {},
   "outputs": [
    {
     "name": "stdout",
     "output_type": "stream",
     "text": [
      "Colunas com valor único (removidas): ['st_tmagsymerr', 'st_tmaglim', 'st_pmralim', 'st_pmdeclim', 'pl_tranmidlim', 'pl_orbperlim', 'pl_trandurhlim', 'pl_trandeplim', 'pl_radelim', 'st_distlim', 'st_tefflim', 'st_logglim', 'st_radlim']\n"
     ]
    }
   ],
   "source": [
    "# columsn with only one unique value\n",
    "unique_value_cols = [col for col in data_null_removed.columns if data_null_removed[col].nunique() <= 1]\n",
    "print(f\"Colunas com valor único (removidas): {unique_value_cols}\")\n",
    "data_null_removed = data_null_removed.drop(columns=unique_value_cols)\n",
    "\n",
    "data_null_removed.to_csv('data_for_model.csv', index=False)\n",
    "\n",
    "data_final = data_null_removed.copy()"
   ]
  },
  {
   "cell_type": "code",
   "execution_count": 10,
   "id": "efe30e58",
   "metadata": {},
   "outputs": [
    {
     "name": "stdout",
     "output_type": "stream",
     "text": [
      "st_tmag            0\n",
      "ra                 0\n",
      "dec                0\n",
      "st_pmra            0\n",
      "st_pmraerr1        0\n",
      "st_pmraerr2        0\n",
      "st_pmdec           0\n",
      "st_pmdecerr1       0\n",
      "st_pmdecerr2       0\n",
      "pl_tranmid         0\n",
      "pl_tranmiderr1     0\n",
      "pl_tranmiderr2     0\n",
      "pl_orbper          0\n",
      "pl_trandurh        0\n",
      "pl_trandep         0\n",
      "pl_rade            0\n",
      "pl_radeerr1        0\n",
      "pl_radeerr2        0\n",
      "pl_insol           0\n",
      "pl_eqt             0\n",
      "st_dist            0\n",
      "st_disterr1        0\n",
      "st_disterr2        0\n",
      "st_teff            0\n",
      "st_tefferr1        0\n",
      "st_tefferr2        0\n",
      "st_logg            0\n",
      "st_loggerr1        0\n",
      "st_loggerr2        0\n",
      "st_rad             0\n",
      "st_raderr1         0\n",
      "st_raderr2         0\n",
      "isPlanet           0\n",
      "star_id            0\n",
      "pl_orbper_snr      0\n",
      "pl_trandurh_snr    0\n",
      "pl_trandep_snr     0\n",
      "st_tmag_snr        0\n",
      "dtype: int64\n"
     ]
    }
   ],
   "source": [
    "missing_values = data_final.isnull().sum()\n",
    "print(missing_values)"
   ]
  },
  {
   "cell_type": "code",
   "execution_count": 11,
   "id": "cc288f9d",
   "metadata": {},
   "outputs": [
    {
     "name": "stdout",
     "output_type": "stream",
     "text": [
      "Total de sinais: 4826\n",
      "Total de estrelas únicas (grupos): 5\n",
      "Tamanho do conjunto de treino: 3860 amostras\n",
      "Tamanho do conjunto de teste: 966 amostras\n",
      "Distribuição das classes no conjunto de treino:\n",
      "isPlanet\n",
      "1    0.821244\n",
      "0    0.178756\n",
      "Name: proportion, dtype: float64\n"
     ]
    }
   ],
   "source": [
    "from sklearn.model_selection import train_test_split\n",
    "from sklearn.preprocessing import StandardScaler\n",
    "\n",
    "\n",
    "X = data_final.drop(columns=['isPlanet', 'star_id'])\n",
    "y = data_final['isPlanet']\n",
    "\n",
    "\n",
    "X_train, X_test, y_train, y_test = train_test_split(\n",
    "    X, y, test_size=0.2, random_state=42, stratify=y\n",
    ")\n",
    "\n",
    "groups = data_final['star_id']\n",
    "print(f\"Total de sinais: {len(X)}\")\n",
    "print(f\"Total de estrelas únicas (grupos): {len(groups.unique())}\")\n",
    "\n",
    "scaler = StandardScaler()\n",
    "X_train_scaled = scaler.fit_transform(X_train)\n",
    "X_test_scaled = scaler.transform(X_test)\n",
    "\n",
    "print(f\"Tamanho do conjunto de treino: {X_train_scaled.shape[0]} amostras\")\n",
    "print(f\"Tamanho do conjunto de teste: {X_test_scaled.shape[0]} amostras\")\n",
    "\n",
    "\n",
    "# Relação entre classes no conjunto de treino\n",
    "print(\"Distribuição das classes no conjunto de treino:\")\n",
    "print(y_train.value_counts(normalize=True))"
   ]
  },
  {
   "cell_type": "code",
   "execution_count": 12,
   "id": "28692cfa",
   "metadata": {},
   "outputs": [],
   "source": [
    "\n",
    "\n",
    "count_neg = y_train.value_counts()[0]\n",
    "count_pos = y_train.value_counts()[1]\n",
    "scale_pos_weight = count_neg / count_pos\n",
    "\n",
    "models = {\n",
    "\t\"Regressão Logística\": LogisticRegression(random_state=42, max_iter=1000, class_weight='balanced'),\n",
    "\t\"LDA\": LinearDiscriminantAnalysis(),\n",
    "\n",
    "\t'KNN': KNeighborsClassifier(n_neighbors=5),\n",
    "\t'Gradient Boosting': GradientBoostingClassifier(random_state=SEED), \n",
    "\t\"Árvore de Decisão\": DecisionTreeClassifier(random_state=42, class_weight='balanced'),\n",
    "\t\"Random Forest\": RandomForestClassifier(random_state=42, class_weight='balanced'),\n",
    "\t\"SVM\": SVC(random_state=42, probability=True, class_weight='balanced'),\n",
    "\t\"XGBoost\": XGBClassifier(random_state=42, use_label_encoder=False, eval_metric='logloss', scale_pos_weight=scale_pos_weight),\n",
    "\t\"XGBoost (Equilibrado)\": XGBClassifier(\n",
    "\t\trandom_state=42,\n",
    "\t\tuse_label_encoder=False,\n",
    "\t\teval_metric='logloss',\n",
    "\t\tscale_pos_weight=scale_pos_weight,\n",
    "\t\tn_estimators=600,\n",
    "\t\tlearning_rate=0.04,\n",
    "\t\tmax_depth=6,\n",
    "\t\tsubsample=0.8,\n",
    "\t\tcolsample_bytree=0.8\n",
    "\t),\n",
    "\t\"LightGBM\": LGBMClassifier(random_state=42, class_weight='balanced'),\n",
    "\t\"LightGBM (Tunado v3)\": LGBMClassifier(\n",
    "\t\trandom_state=42,\n",
    "\t\tclass_weight='balanced',\n",
    "\t\tn_estimators=500,\n",
    "\t\tlearning_rate=0.05,\n",
    "\t),\n",
    "}\n"
   ]
  },
  {
   "cell_type": "code",
   "execution_count": 13,
   "id": "c47fbcce",
   "metadata": {},
   "outputs": [
    {
     "name": "stderr",
     "output_type": "stream",
     "text": [
      "c:\\Users\\Guilherme\\AppData\\Local\\Programs\\Python\\Python313\\Lib\\site-packages\\tqdm\\auto.py:21: TqdmWarning: IProgress not found. Please update jupyter and ipywidgets. See https://ipywidgets.readthedocs.io/en/stable/user_install.html\n",
      "  from .autonotebook import tqdm as notebook_tqdm\n",
      "c:\\Users\\Guilherme\\AppData\\Local\\Programs\\Python\\Python313\\Lib\\site-packages\\optuna\\_experimental.py:32: ExperimentalWarning: Argument ``multivariate`` is an experimental feature. The interface can change in the future.\n",
      "  warnings.warn(\n",
      "[I 2025-09-19 22:17:37,262] A new study created in memory with name: no-name-0173bd9c-a172-49a8-8bc0-900c5b914397\n"
     ]
    },
    {
     "name": "stdout",
     "output_type": "stream",
     "text": [
      "--- Iniciando busca de hiperparâmetros com Optuna (estratégia holdout) ---\n"
     ]
    },
    {
     "name": "stderr",
     "output_type": "stream",
     "text": [
      "Best trial: 0. Best value: 0.886531:   1%|          | 1/150 [00:01<03:49,  1.54s/it, 1.53/1800 seconds]"
     ]
    },
    {
     "name": "stdout",
     "output_type": "stream",
     "text": [
      "[I 2025-09-19 22:17:38,798] Trial 0 finished with value: 0.8865314999708063 and parameters: {'learning_rate': 0.008468008575248327, 'max_depth': 10, 'subsample': 0.8659969709057025, 'colsample_bytree': 0.7993292420985183, 'gamma': 1.77071686435378e-07, 'lambda': 2.275053705838343e-07, 'alpha': 3.200866785899844e-08, 'min_child_weight': 9}. Best is trial 0 with value: 0.8865314999708063.\n"
     ]
    },
    {
     "name": "stderr",
     "output_type": "stream",
     "text": [
      "Best trial: 1. Best value: 0.887283:   1%|▏         | 2/150 [00:02<02:32,  1.03s/it, 2.21/1800 seconds]"
     ]
    },
    {
     "name": "stdout",
     "output_type": "stream",
     "text": [
      "[I 2025-09-19 22:17:39,469] Trial 1 finished with value: 0.8872832369942196 and parameters: {'learning_rate': 0.030834348179355788, 'max_depth': 8, 'subsample': 0.5102922471479012, 'colsample_bytree': 0.9849549260809971, 'gamma': 0.04566054873446119, 'lambda': 7.032853236588588e-07, 'alpha': 3.8167167932852713e-07, 'min_child_weight': 2}. Best is trial 1 with value: 0.8872832369942196.\n"
     ]
    },
    {
     "name": "stderr",
     "output_type": "stream",
     "text": [
      "Best trial: 1. Best value: 0.887283:   2%|▏         | 3/150 [00:03<03:03,  1.25s/it, 3.72/1800 seconds]"
     ]
    },
    {
     "name": "stdout",
     "output_type": "stream",
     "text": [
      "[I 2025-09-19 22:17:40,983] Trial 2 finished with value: 0.8860571028201086 and parameters: {'learning_rate': 0.005670807781371429, 'max_depth': 7, 'subsample': 0.7159725093210578, 'colsample_bytree': 0.645614570099021, 'gamma': 0.000784915956255507, 'lambda': 1.634755885510359e-07, 'alpha': 3.4782238967388167e-06, 'min_child_weight': 4}. Best is trial 1 with value: 0.8872832369942196.\n"
     ]
    },
    {
     "name": "stderr",
     "output_type": "stream",
     "text": [
      "Best trial: 3. Best value: 0.89121:   3%|▎         | 4/150 [00:05<03:04,  1.27s/it, 5.01/1800 seconds] "
     ]
    },
    {
     "name": "stdout",
     "output_type": "stream",
     "text": [
      "[I 2025-09-19 22:17:42,275] Trial 3 finished with value: 0.8912097857184563 and parameters: {'learning_rate': 0.013481575603601416, 'max_depth': 9, 'subsample': 0.5998368910791798, 'colsample_bytree': 0.7571172192068059, 'gamma': 0.0005486767416600901, 'lambda': 2.535541638745669e-08, 'alpha': 0.0019275890163896973, 'min_child_weight': 2}. Best is trial 3 with value: 0.8912097857184563.\n"
     ]
    },
    {
     "name": "stderr",
     "output_type": "stream",
     "text": [
      "Best trial: 3. Best value: 0.89121:   7%|▋         | 11/150 [00:10<01:41,  1.37it/s, 10.01/1800 seconds]"
     ]
    },
    {
     "name": "stdout",
     "output_type": "stream",
     "text": [
      "[I 2025-09-19 22:17:47,105] Trial 4 finished with value: 0.8842689904828633 and parameters: {'learning_rate': 0.0014492412389916862, 'max_depth': 10, 'subsample': 0.9828160165372797, 'colsample_bytree': 0.9041986740582306, 'gamma': 2.734702913886802e-06, 'lambda': 7.073702489270826e-08, 'alpha': 0.00895617505524071, 'min_child_weight': 5}. Best is trial 3 with value: 0.8912097857184563.\n",
      "[I 2025-09-19 22:17:47,127] Trial 5 pruned. Trial was pruned at iteration 0.\n",
      "[I 2025-09-19 22:17:47,153] Trial 6 pruned. Trial was pruned at iteration 0.\n",
      "[I 2025-09-19 22:17:47,172] Trial 7 pruned. Trial was pruned at iteration 0.\n",
      "[I 2025-09-19 22:17:47,195] Trial 8 pruned. Trial was pruned at iteration 0.\n",
      "[I 2025-09-19 22:17:47,231] Trial 9 pruned. Trial was pruned at iteration 0.\n",
      "[I 2025-09-19 22:17:47,278] Trial 10 pruned. Trial was pruned at iteration 0.\n"
     ]
    },
    {
     "name": "stderr",
     "output_type": "stream",
     "text": [
      "Best trial: 3. Best value: 0.89121:  12%|█▏        | 18/150 [00:10<00:37,  3.52it/s, 10.24/1800 seconds]"
     ]
    },
    {
     "name": "stdout",
     "output_type": "stream",
     "text": [
      "[I 2025-09-19 22:17:47,312] Trial 11 pruned. Trial was pruned at iteration 0.\n",
      "[I 2025-09-19 22:17:47,349] Trial 12 pruned. Trial was pruned at iteration 0.\n",
      "[I 2025-09-19 22:17:47,386] Trial 13 pruned. Trial was pruned at iteration 2.\n",
      "[I 2025-09-19 22:17:47,421] Trial 14 pruned. Trial was pruned at iteration 0.\n",
      "[I 2025-09-19 22:17:47,449] Trial 15 pruned. Trial was pruned at iteration 0.\n",
      "[I 2025-09-19 22:17:47,473] Trial 16 pruned. Trial was pruned at iteration 0.\n",
      "[I 2025-09-19 22:17:47,502] Trial 17 pruned. Trial was pruned at iteration 0.\n"
     ]
    },
    {
     "name": "stderr",
     "output_type": "stream",
     "text": [
      "Best trial: 3. Best value: 0.89121:  15%|█▍        | 22/150 [00:10<00:26,  4.85it/s, 10.37/1800 seconds]"
     ]
    },
    {
     "name": "stdout",
     "output_type": "stream",
     "text": [
      "[I 2025-09-19 22:17:47,535] Trial 18 pruned. Trial was pruned at iteration 0.\n",
      "[I 2025-09-19 22:17:47,576] Trial 19 pruned. Trial was pruned at iteration 2.\n",
      "[I 2025-09-19 22:17:47,602] Trial 20 pruned. Trial was pruned at iteration 0.\n",
      "[I 2025-09-19 22:17:47,631] Trial 21 pruned. Trial was pruned at iteration 0.\n"
     ]
    },
    {
     "name": "stderr",
     "output_type": "stream",
     "text": [
      "Best trial: 3. Best value: 0.89121:  18%|█▊        | 27/150 [00:10<00:15,  8.03it/s, 10.65/1800 seconds]"
     ]
    },
    {
     "name": "stdout",
     "output_type": "stream",
     "text": [
      "[I 2025-09-19 22:17:47,747] Trial 22 pruned. Trial was pruned at iteration 0.\n",
      "[I 2025-09-19 22:17:47,788] Trial 23 pruned. Trial was pruned at iteration 0.\n",
      "[I 2025-09-19 22:17:47,834] Trial 24 pruned. Trial was pruned at iteration 5.\n",
      "[I 2025-09-19 22:17:47,877] Trial 25 pruned. Trial was pruned at iteration 0.\n",
      "[I 2025-09-19 22:17:47,916] Trial 26 pruned. Trial was pruned at iteration 0.\n"
     ]
    },
    {
     "name": "stderr",
     "output_type": "stream",
     "text": [
      "Best trial: 3. Best value: 0.89121:  21%|██▏       | 32/150 [00:10<00:11,  9.99it/s, 10.84/1800 seconds]"
     ]
    },
    {
     "name": "stdout",
     "output_type": "stream",
     "text": [
      "[I 2025-09-19 22:17:47,949] Trial 27 pruned. Trial was pruned at iteration 1.\n",
      "[I 2025-09-19 22:17:48,009] Trial 28 pruned. Trial was pruned at iteration 3.\n",
      "[I 2025-09-19 22:17:48,043] Trial 29 pruned. Trial was pruned at iteration 0.\n",
      "[I 2025-09-19 22:17:48,071] Trial 30 pruned. Trial was pruned at iteration 0.\n",
      "[I 2025-09-19 22:17:48,100] Trial 31 pruned. Trial was pruned at iteration 0.\n"
     ]
    },
    {
     "name": "stderr",
     "output_type": "stream",
     "text": [
      "Best trial: 3. Best value: 0.89121:  26%|██▌       | 39/150 [00:11<00:08, 13.53it/s, 11.29/1800 seconds]"
     ]
    },
    {
     "name": "stdout",
     "output_type": "stream",
     "text": [
      "[I 2025-09-19 22:17:48,375] Trial 32 pruned. Trial was pruned at iteration 88.\n",
      "[I 2025-09-19 22:17:48,403] Trial 33 pruned. Trial was pruned at iteration 0.\n",
      "[I 2025-09-19 22:17:48,440] Trial 34 pruned. Trial was pruned at iteration 3.\n",
      "[I 2025-09-19 22:17:48,468] Trial 35 pruned. Trial was pruned at iteration 0.\n",
      "[I 2025-09-19 22:17:48,494] Trial 36 pruned. Trial was pruned at iteration 0.\n",
      "[I 2025-09-19 22:17:48,523] Trial 37 pruned. Trial was pruned at iteration 0.\n",
      "[I 2025-09-19 22:17:48,552] Trial 38 pruned. Trial was pruned at iteration 0.\n"
     ]
    },
    {
     "name": "stderr",
     "output_type": "stream",
     "text": [
      "Best trial: 3. Best value: 0.89121:  29%|██▉       | 44/150 [00:11<00:06, 17.15it/s, 11.53/1800 seconds]"
     ]
    },
    {
     "name": "stdout",
     "output_type": "stream",
     "text": [
      "[I 2025-09-19 22:17:48,592] Trial 39 pruned. Trial was pruned at iteration 0.\n",
      "[I 2025-09-19 22:17:48,644] Trial 40 pruned. Trial was pruned at iteration 1.\n",
      "[I 2025-09-19 22:17:48,691] Trial 41 pruned. Trial was pruned at iteration 0.\n",
      "[I 2025-09-19 22:17:48,729] Trial 42 pruned. Trial was pruned at iteration 2.\n",
      "[I 2025-09-19 22:17:48,789] Trial 43 pruned. Trial was pruned at iteration 1.\n"
     ]
    },
    {
     "name": "stderr",
     "output_type": "stream",
     "text": [
      "Best trial: 3. Best value: 0.89121:  33%|███▎      | 49/150 [00:11<00:05, 17.40it/s, 11.76/1800 seconds]"
     ]
    },
    {
     "name": "stdout",
     "output_type": "stream",
     "text": [
      "[I 2025-09-19 22:17:48,857] Trial 44 pruned. Trial was pruned at iteration 5.\n",
      "[I 2025-09-19 22:17:48,909] Trial 45 pruned. Trial was pruned at iteration 2.\n",
      "[I 2025-09-19 22:17:48,955] Trial 46 pruned. Trial was pruned at iteration 2.\n",
      "[I 2025-09-19 22:17:48,984] Trial 47 pruned. Trial was pruned at iteration 0.\n",
      "[I 2025-09-19 22:17:49,028] Trial 48 pruned. Trial was pruned at iteration 0.\n"
     ]
    },
    {
     "name": "stderr",
     "output_type": "stream",
     "text": [
      "Best trial: 3. Best value: 0.89121:  36%|███▌      | 54/150 [00:11<00:04, 19.93it/s, 11.98/1800 seconds]"
     ]
    },
    {
     "name": "stdout",
     "output_type": "stream",
     "text": [
      "[I 2025-09-19 22:17:49,068] Trial 49 pruned. Trial was pruned at iteration 0.\n",
      "[I 2025-09-19 22:17:49,112] Trial 50 pruned. Trial was pruned at iteration 2.\n",
      "[I 2025-09-19 22:17:49,160] Trial 51 pruned. Trial was pruned at iteration 5.\n",
      "[I 2025-09-19 22:17:49,204] Trial 52 pruned. Trial was pruned at iteration 5.\n",
      "[I 2025-09-19 22:17:49,247] Trial 53 pruned. Trial was pruned at iteration 1.\n"
     ]
    },
    {
     "name": "stderr",
     "output_type": "stream",
     "text": [
      "Best trial: 3. Best value: 0.89121:  38%|███▊      | 57/150 [00:12<00:04, 20.79it/s, 12.11/1800 seconds]"
     ]
    },
    {
     "name": "stdout",
     "output_type": "stream",
     "text": [
      "[I 2025-09-19 22:17:49,285] Trial 54 pruned. Trial was pruned at iteration 1.\n",
      "[I 2025-09-19 22:17:49,333] Trial 55 pruned. Trial was pruned at iteration 0.\n",
      "[I 2025-09-19 22:17:49,375] Trial 56 pruned. Trial was pruned at iteration 0.\n"
     ]
    },
    {
     "name": "stderr",
     "output_type": "stream",
     "text": [
      "Best trial: 3. Best value: 0.89121:  42%|████▏     | 63/150 [00:12<00:05, 16.21it/s, 12.61/1800 seconds]"
     ]
    },
    {
     "name": "stdout",
     "output_type": "stream",
     "text": [
      "[I 2025-09-19 22:17:49,689] Trial 57 finished with value: 0.8682526128335376 and parameters: {'learning_rate': 0.002870981104010888, 'max_depth': 10, 'subsample': 0.7382099683900285, 'colsample_bytree': 0.5447612700486453, 'gamma': 0.0005629206816224073, 'lambda': 1.0716315429112022e-08, 'alpha': 1.012600029854767e-06, 'min_child_weight': 4}. Best is trial 3 with value: 0.8912097857184563.\n",
      "[I 2025-09-19 22:17:49,710] Trial 58 pruned. Trial was pruned at iteration 0.\n",
      "[I 2025-09-19 22:17:49,754] Trial 59 pruned. Trial was pruned at iteration 0.\n",
      "[I 2025-09-19 22:17:49,802] Trial 60 pruned. Trial was pruned at iteration 1.\n",
      "[I 2025-09-19 22:17:49,830] Trial 61 pruned. Trial was pruned at iteration 0.\n",
      "[I 2025-09-19 22:17:49,872] Trial 62 pruned. Trial was pruned at iteration 0.\n"
     ]
    },
    {
     "name": "stderr",
     "output_type": "stream",
     "text": [
      "Best trial: 3. Best value: 0.89121:  45%|████▌     | 68/150 [00:12<00:04, 20.11it/s, 12.80/1800 seconds]"
     ]
    },
    {
     "name": "stdout",
     "output_type": "stream",
     "text": [
      "[I 2025-09-19 22:17:49,905] Trial 63 pruned. Trial was pruned at iteration 2.\n",
      "[I 2025-09-19 22:17:49,957] Trial 64 pruned. Trial was pruned at iteration 2.\n",
      "[I 2025-09-19 22:17:49,983] Trial 65 pruned. Trial was pruned at iteration 0.\n",
      "[I 2025-09-19 22:17:50,019] Trial 66 pruned. Trial was pruned at iteration 0.\n",
      "[I 2025-09-19 22:17:50,062] Trial 67 pruned. Trial was pruned at iteration 0.\n"
     ]
    },
    {
     "name": "stderr",
     "output_type": "stream",
     "text": [
      "Best trial: 3. Best value: 0.89121:  48%|████▊     | 72/150 [00:13<00:04, 18.48it/s, 13.03/1800 seconds]"
     ]
    },
    {
     "name": "stdout",
     "output_type": "stream",
     "text": [
      "[I 2025-09-19 22:17:50,107] Trial 68 pruned. Trial was pruned at iteration 2.\n",
      "[I 2025-09-19 22:17:50,212] Trial 69 pruned. Trial was pruned at iteration 0.\n",
      "[I 2025-09-19 22:17:50,256] Trial 70 pruned. Trial was pruned at iteration 0.\n",
      "[I 2025-09-19 22:17:50,288] Trial 71 pruned. Trial was pruned at iteration 0.\n"
     ]
    },
    {
     "name": "stderr",
     "output_type": "stream",
     "text": [
      "Best trial: 3. Best value: 0.89121:  53%|█████▎    | 79/150 [00:13<00:02, 24.48it/s, 13.24/1800 seconds]"
     ]
    },
    {
     "name": "stdout",
     "output_type": "stream",
     "text": [
      "[I 2025-09-19 22:17:50,323] Trial 72 pruned. Trial was pruned at iteration 0.\n",
      "[I 2025-09-19 22:17:50,357] Trial 73 pruned. Trial was pruned at iteration 0.\n",
      "[I 2025-09-19 22:17:50,388] Trial 74 pruned. Trial was pruned at iteration 0.\n",
      "[I 2025-09-19 22:17:50,414] Trial 75 pruned. Trial was pruned at iteration 0.\n",
      "[I 2025-09-19 22:17:50,442] Trial 76 pruned. Trial was pruned at iteration 0.\n",
      "[I 2025-09-19 22:17:50,470] Trial 77 pruned. Trial was pruned at iteration 0.\n",
      "[I 2025-09-19 22:17:50,506] Trial 78 pruned. Trial was pruned at iteration 0.\n"
     ]
    },
    {
     "name": "stderr",
     "output_type": "stream",
     "text": [
      "Best trial: 3. Best value: 0.89121:  57%|█████▋    | 85/150 [00:13<00:02, 26.15it/s, 13.45/1800 seconds]"
     ]
    },
    {
     "name": "stdout",
     "output_type": "stream",
     "text": [
      "[I 2025-09-19 22:17:50,536] Trial 79 pruned. Trial was pruned at iteration 0.\n",
      "[I 2025-09-19 22:17:50,564] Trial 80 pruned. Trial was pruned at iteration 0.\n",
      "[I 2025-09-19 22:17:50,600] Trial 81 pruned. Trial was pruned at iteration 0.\n",
      "[I 2025-09-19 22:17:50,632] Trial 82 pruned. Trial was pruned at iteration 0.\n",
      "[I 2025-09-19 22:17:50,681] Trial 83 pruned. Trial was pruned at iteration 0.\n",
      "[I 2025-09-19 22:17:50,716] Trial 84 pruned. Trial was pruned at iteration 0.\n"
     ]
    },
    {
     "name": "stderr",
     "output_type": "stream",
     "text": [
      "Best trial: 3. Best value: 0.89121:  61%|██████    | 91/150 [00:13<00:02, 25.31it/s, 13.70/1800 seconds]"
     ]
    },
    {
     "name": "stdout",
     "output_type": "stream",
     "text": [
      "[I 2025-09-19 22:17:50,770] Trial 85 pruned. Trial was pruned at iteration 0.\n",
      "[I 2025-09-19 22:17:50,807] Trial 86 pruned. Trial was pruned at iteration 0.\n",
      "[I 2025-09-19 22:17:50,844] Trial 87 pruned. Trial was pruned at iteration 0.\n",
      "[I 2025-09-19 22:17:50,873] Trial 88 pruned. Trial was pruned at iteration 0.\n",
      "[I 2025-09-19 22:17:50,929] Trial 89 pruned. Trial was pruned at iteration 7.\n",
      "[I 2025-09-19 22:17:50,964] Trial 90 pruned. Trial was pruned at iteration 0.\n"
     ]
    },
    {
     "name": "stderr",
     "output_type": "stream",
     "text": [
      "Best trial: 3. Best value: 0.89121:  65%|██████▍   | 97/150 [00:13<00:02, 25.54it/s, 13.94/1800 seconds]"
     ]
    },
    {
     "name": "stdout",
     "output_type": "stream",
     "text": [
      "[I 2025-09-19 22:17:51,005] Trial 91 pruned. Trial was pruned at iteration 0.\n",
      "[I 2025-09-19 22:17:51,047] Trial 92 pruned. Trial was pruned at iteration 0.\n",
      "[I 2025-09-19 22:17:51,094] Trial 93 pruned. Trial was pruned at iteration 1.\n",
      "[I 2025-09-19 22:17:51,126] Trial 94 pruned. Trial was pruned at iteration 0.\n",
      "[I 2025-09-19 22:17:51,166] Trial 95 pruned. Trial was pruned at iteration 0.\n",
      "[I 2025-09-19 22:17:51,201] Trial 96 pruned. Trial was pruned at iteration 1.\n"
     ]
    },
    {
     "name": "stderr",
     "output_type": "stream",
     "text": [
      "Best trial: 3. Best value: 0.89121:  69%|██████▊   | 103/150 [00:14<00:01, 25.33it/s, 14.18/1800 seconds]"
     ]
    },
    {
     "name": "stdout",
     "output_type": "stream",
     "text": [
      "[I 2025-09-19 22:17:51,259] Trial 97 pruned. Trial was pruned at iteration 0.\n",
      "[I 2025-09-19 22:17:51,299] Trial 98 pruned. Trial was pruned at iteration 2.\n",
      "[I 2025-09-19 22:17:51,334] Trial 99 pruned. Trial was pruned at iteration 0.\n",
      "[I 2025-09-19 22:17:51,362] Trial 100 pruned. Trial was pruned at iteration 0.\n",
      "[I 2025-09-19 22:17:51,400] Trial 101 pruned. Trial was pruned at iteration 1.\n",
      "[I 2025-09-19 22:17:51,444] Trial 102 pruned. Trial was pruned at iteration 0.\n"
     ]
    },
    {
     "name": "stderr",
     "output_type": "stream",
     "text": [
      "Best trial: 3. Best value: 0.89121:  73%|███████▎  | 110/150 [00:14<00:01, 27.22it/s, 14.43/1800 seconds]"
     ]
    },
    {
     "name": "stdout",
     "output_type": "stream",
     "text": [
      "[I 2025-09-19 22:17:51,495] Trial 103 pruned. Trial was pruned at iteration 5.\n",
      "[I 2025-09-19 22:17:51,538] Trial 104 pruned. Trial was pruned at iteration 0.\n",
      "[I 2025-09-19 22:17:51,573] Trial 105 pruned. Trial was pruned at iteration 0.\n",
      "[I 2025-09-19 22:17:51,603] Trial 106 pruned. Trial was pruned at iteration 1.\n",
      "[I 2025-09-19 22:17:51,630] Trial 107 pruned. Trial was pruned at iteration 0.\n",
      "[I 2025-09-19 22:17:51,659] Trial 108 pruned. Trial was pruned at iteration 0.\n",
      "[I 2025-09-19 22:17:51,692] Trial 109 pruned. Trial was pruned at iteration 0.\n"
     ]
    },
    {
     "name": "stderr",
     "output_type": "stream",
     "text": [
      "Best trial: 3. Best value: 0.89121:  77%|███████▋  | 115/150 [00:14<00:01, 23.40it/s, 14.66/1800 seconds]"
     ]
    },
    {
     "name": "stdout",
     "output_type": "stream",
     "text": [
      "[I 2025-09-19 22:17:51,736] Trial 110 pruned. Trial was pruned at iteration 0.\n",
      "[I 2025-09-19 22:17:51,780] Trial 111 pruned. Trial was pruned at iteration 0.\n",
      "[I 2025-09-19 22:17:51,868] Trial 112 pruned. Trial was pruned at iteration 0.\n",
      "[I 2025-09-19 22:17:51,897] Trial 113 pruned. Trial was pruned at iteration 0.\n",
      "[I 2025-09-19 22:17:51,927] Trial 114 pruned. Trial was pruned at iteration 0.\n"
     ]
    },
    {
     "name": "stderr",
     "output_type": "stream",
     "text": [
      "Best trial: 3. Best value: 0.89121:  81%|████████  | 121/150 [00:14<00:01, 25.90it/s, 14.89/1800 seconds]"
     ]
    },
    {
     "name": "stdout",
     "output_type": "stream",
     "text": [
      "[I 2025-09-19 22:17:51,958] Trial 115 pruned. Trial was pruned at iteration 0.\n",
      "[I 2025-09-19 22:17:52,007] Trial 116 pruned. Trial was pruned at iteration 2.\n",
      "[I 2025-09-19 22:17:52,041] Trial 117 pruned. Trial was pruned at iteration 0.\n",
      "[I 2025-09-19 22:17:52,074] Trial 118 pruned. Trial was pruned at iteration 1.\n",
      "[I 2025-09-19 22:17:52,107] Trial 119 pruned. Trial was pruned at iteration 0.\n",
      "[I 2025-09-19 22:17:52,151] Trial 120 pruned. Trial was pruned at iteration 0.\n"
     ]
    },
    {
     "name": "stderr",
     "output_type": "stream",
     "text": [
      "Best trial: 3. Best value: 0.89121:  85%|████████▌ | 128/150 [00:15<00:00, 27.96it/s, 15.13/1800 seconds]"
     ]
    },
    {
     "name": "stdout",
     "output_type": "stream",
     "text": [
      "[I 2025-09-19 22:17:52,198] Trial 121 pruned. Trial was pruned at iteration 3.\n",
      "[I 2025-09-19 22:17:52,238] Trial 122 pruned. Trial was pruned at iteration 1.\n",
      "[I 2025-09-19 22:17:52,281] Trial 123 pruned. Trial was pruned at iteration 5.\n",
      "[I 2025-09-19 22:17:52,308] Trial 124 pruned. Trial was pruned at iteration 0.\n",
      "[I 2025-09-19 22:17:52,336] Trial 125 pruned. Trial was pruned at iteration 0.\n",
      "[I 2025-09-19 22:17:52,361] Trial 126 pruned. Trial was pruned at iteration 0.\n",
      "[I 2025-09-19 22:17:52,390] Trial 127 pruned. Trial was pruned at iteration 0.\n"
     ]
    },
    {
     "name": "stderr",
     "output_type": "stream",
     "text": [
      "Best trial: 3. Best value: 0.89121:  88%|████████▊ | 132/150 [00:15<00:00, 23.74it/s, 15.35/1800 seconds]"
     ]
    },
    {
     "name": "stdout",
     "output_type": "stream",
     "text": [
      "[I 2025-09-19 22:17:52,443] Trial 128 pruned. Trial was pruned at iteration 5.\n",
      "[I 2025-09-19 22:17:52,503] Trial 129 pruned. Trial was pruned at iteration 3.\n",
      "[I 2025-09-19 22:17:52,571] Trial 130 pruned. Trial was pruned at iteration 11.\n",
      "[I 2025-09-19 22:17:52,610] Trial 131 pruned. Trial was pruned at iteration 2.\n"
     ]
    },
    {
     "name": "stderr",
     "output_type": "stream",
     "text": [
      "                                                                                                         \r"
     ]
    },
    {
     "name": "stdout",
     "output_type": "stream",
     "text": [
      "[I 2025-09-19 22:17:52,645] Trial 132 pruned. Trial was pruned at iteration 3.\n",
      "[I 2025-09-19 22:17:52,705] Trial 133 pruned. Trial was pruned at iteration 0.\n",
      "[I 2025-09-19 22:17:52,743] Trial 134 pruned. Trial was pruned at iteration 0.\n",
      "[I 2025-09-19 22:17:52,776] Trial 135 pruned. Trial was pruned at iteration 0.\n",
      "[I 2025-09-19 22:17:52,808] Trial 136 pruned. Trial was pruned at iteration 0.\n"
     ]
    },
    {
     "name": "stderr",
     "output_type": "stream",
     "text": [
      "Best trial: 3. Best value: 0.89121:  93%|█████████▎| 139/150 [00:15<00:00, 24.73it/s, 15.62/1800 seconds]"
     ]
    },
    {
     "name": "stdout",
     "output_type": "stream",
     "text": [
      "[I 2025-09-19 22:17:52,846] Trial 137 pruned. Trial was pruned at iteration 0.\n",
      "[I 2025-09-19 22:17:52,884] Trial 138 pruned. Trial was pruned at iteration 0.\n"
     ]
    },
    {
     "name": "stderr",
     "output_type": "stream",
     "text": [
      "Best trial: 3. Best value: 0.89121:  97%|█████████▋| 145/150 [00:16<00:00, 17.72it/s, 16.09/1800 seconds]"
     ]
    },
    {
     "name": "stdout",
     "output_type": "stream",
     "text": [
      "[I 2025-09-19 22:17:53,169] Trial 139 finished with value: 0.8665849243883925 and parameters: {'learning_rate': 0.002037892829467389, 'max_depth': 10, 'subsample': 0.738112156547138, 'colsample_bytree': 0.5430633103790484, 'gamma': 5.0333246081208945e-05, 'lambda': 5.33391689515292e-08, 'alpha': 1.1942281505847586e-07, 'min_child_weight': 5}. Best is trial 3 with value: 0.8912097857184563.\n",
      "[I 2025-09-19 22:17:53,214] Trial 140 pruned. Trial was pruned at iteration 0.\n",
      "[I 2025-09-19 22:17:53,246] Trial 141 pruned. Trial was pruned at iteration 0.\n",
      "[I 2025-09-19 22:17:53,288] Trial 142 pruned. Trial was pruned at iteration 2.\n",
      "[I 2025-09-19 22:17:53,323] Trial 143 pruned. Trial was pruned at iteration 0.\n",
      "[I 2025-09-19 22:17:53,356] Trial 144 pruned. Trial was pruned at iteration 0.\n"
     ]
    },
    {
     "name": "stderr",
     "output_type": "stream",
     "text": [
      "Best trial: 3. Best value: 0.89121: 100%|██████████| 150/150 [00:16<00:00,  9.21it/s, 16.28/1800 seconds]"
     ]
    },
    {
     "name": "stdout",
     "output_type": "stream",
     "text": [
      "[I 2025-09-19 22:17:53,396] Trial 145 pruned. Trial was pruned at iteration 3.\n",
      "[I 2025-09-19 22:17:53,438] Trial 146 pruned. Trial was pruned at iteration 0.\n",
      "[I 2025-09-19 22:17:53,464] Trial 147 pruned. Trial was pruned at iteration 1.\n",
      "[I 2025-09-19 22:17:53,494] Trial 148 pruned. Trial was pruned at iteration 0.\n",
      "[I 2025-09-19 22:17:53,539] Trial 149 pruned. Trial was pruned at iteration 5.\n",
      "\n",
      "--- Busca de Hiperparâmetros Concluída ---\n",
      "Melhor pontuação (AUC ROC) na validação: 0.8912\n",
      "Melhores hiperparâmetros encontrados:\n",
      "{'learning_rate': 0.013481575603601416, 'max_depth': 9, 'subsample': 0.5998368910791798, 'colsample_bytree': 0.7571172192068059, 'gamma': 0.0005486767416600901, 'lambda': 2.535541638745669e-08, 'alpha': 0.0019275890163896973, 'min_child_weight': 2}\n",
      "Número ideal de estimadores (n_estimators) encontrado: 461\n",
      "\n",
      "Modelo 'XGBoost (Optuna AUC ROC)' adicionado à lista para avaliação final.\n"
     ]
    },
    {
     "name": "stderr",
     "output_type": "stream",
     "text": [
      "\n"
     ]
    }
   ],
   "source": [
    "# %% [markdown]\n",
    "# ## 🚀 Busca de Hiperparâmetros com Optuna (Holdout + Early Stopping)\n",
    "\n",
    "# %%\n",
    "import optuna\n",
    "from optuna.integration import XGBoostPruningCallback\n",
    "from sklearn.model_selection import train_test_split\n",
    "from sklearn.metrics import average_precision_score\n",
    "from optuna.pruners import MedianPruner\n",
    "# 1. Criar um conjunto de validação DENTRO do conjunto de treino principal\n",
    "# Este split será usado para cada trial do Optuna para avaliar os hiperparâmetros\n",
    "X_train_opt, X_val_opt, y_train_opt, y_val_opt = train_test_split(\n",
    "\tX_train_scaled, y_train, \n",
    "\ttest_size=0.25, # Usaremos 25% dos dados de treino para validação em cada trial\n",
    "\trandom_state=SEED, \n",
    "\tstratify=y_train\n",
    ")\n",
    "\n",
    "# 2. Definir a função objetivo para o Optuna\n",
    "def objective(trial, X_train, y_train, X_val, y_val, scale_pos_weight):\n",
    "\t\"\"\"\n",
    "\tFunção que o Optuna irá otimizar.\n",
    "\tTreina um modelo XGBoost com os hiperparâmetros sugeridos em um split de treino/validação\n",
    "\te retorna a pontuação AUC PRC no conjunto de validação.\n",
    "\t\"\"\"\n",
    "\t# Espaço de busca de hiperparâmetros\n",
    "\tparam_grid = {\n",
    "\t\t'n_estimators': 2000, # Definimos um valor alto, o early stopping encontrará o ideal\n",
    "\t\t'learning_rate': trial.suggest_float('learning_rate', 1e-3, 0.3, log=True),\n",
    "\t\t'max_depth': trial.suggest_int('max_depth', 3, 10),\n",
    "\t\t'subsample': trial.suggest_float('subsample', 0.5, 1.0),\n",
    "\t\t'colsample_bytree': trial.suggest_float('colsample_bytree', 0.5, 1.0),\n",
    "\t\t'gamma': trial.suggest_float('gamma', 1e-8, 1.0, log=True),\n",
    "\t\t'lambda': trial.suggest_float('lambda', 1e-8, 5.0, log=True), # L2 Regularization\n",
    "\t\t'alpha': trial.suggest_float('alpha', 1e-8, 5.0, log=True),   # L1 Regularization\n",
    "\t\t'min_child_weight': trial.suggest_int('min_child_weight', 1, 10),\n",
    "\t}\n",
    "\tpruning_callback = XGBoostPruningCallback(trial, \"validation_0-auc\")\n",
    "\tmodel = XGBClassifier(\n",
    "\t\t**param_grid,\n",
    "\t\trandom_state=SEED,\n",
    "\t\tscale_pos_weight=scale_pos_weight,\n",
    "\t\teval_metric='auc', # Métrica para o early stopping\n",
    "\t\tn_jobs=-1,\n",
    "\t\tcallbacks=[pruning_callback],\n",
    "\t\tearly_stopping_rounds=100\n",
    "\t)\n",
    "\t\n",
    "\t# Callback para Pruning (poda) e Early Stopping integrados\n",
    "   \n",
    "\n",
    "\t# Treina o modelo\n",
    "\tmodel.fit(\n",
    "\t\tX_train, y_train,\n",
    "\t\teval_set=[(X_val, y_val)],\n",
    "\t\t\n",
    "\t\tverbose=False # Desativa os logs de cada rodada de treino\n",
    "\t)\n",
    "\t\n",
    "\tpreds_proba = model.predict_proba(X_val)[:, 1]\n",
    "\n",
    "\t# MUDANÇA 3: A pontuação final do trial agora é calculada com roc_auc_score.\n",
    "\troc_auc = roc_auc_score(y_val, preds_proba)\n",
    "\n",
    "\ttrial.set_user_attr(key=\"best_iteration\", value=model.best_iteration)\n",
    "\n",
    "\treturn roc_auc\n",
    "\n",
    "# 3. Configurar e executar o estudo do Optuna\n",
    "print(\"--- Iniciando busca de hiperparâmetros com Optuna (estratégia holdout) ---\")\n",
    "\n",
    "# Sampler avançado que aprende correlações entre hiperparâmetros\n",
    "sampler = optuna.samplers.TPESampler(multivariate=True, seed=SEED)\n",
    "\n",
    "\n",
    "study = optuna.create_study(\n",
    "\tdirection=\"maximize\",\n",
    "\tsampler=sampler\n",
    ")\n",
    "\n",
    "# Executar a otimização\n",
    "study.optimize(\n",
    "\tlambda trial: objective(trial, X_train_opt, y_train_opt, X_val_opt, y_val_opt, scale_pos_weight),\n",
    "\tn_trials=150,  # Aumentei um pouco os trials, pois a execução é mais rápida\n",
    "\ttimeout=1800, # Tempo máximo em segundos (10 minutos)\n",
    "\tn_jobs=1, # XGBoost já usa todos os cores, então deixamos o Optuna com 1\n",
    "\tshow_progress_bar=True\n",
    ")\n",
    "\n",
    "# 4. Exibir os resultados e criar o melhor modelo\n",
    "print(\"\\n--- Busca de Hiperparâmetros Concluída ---\")\n",
    "# MUDANÇA na string do print para refletir a nova métrica\n",
    "print(f\"Melhor pontuação (AUC ROC) na validação: {study.best_value:.4f}\")\n",
    "print(\"Melhores hiperparâmetros encontrados:\")\n",
    "print(study.best_params)\n",
    "\n",
    "best_params_final = study.best_params\n",
    "best_params_final['n_estimators'] = study.best_trial.user_attrs['best_iteration']\n",
    "\n",
    "print(f\"Número ideal de estimadores (n_estimators) encontrado: {best_params_final['n_estimators']}\")\n",
    "\n",
    "xgb_optuna_model = XGBClassifier(\n",
    "    **best_params_final,\n",
    "    random_state=SEED,\n",
    "    eval_metric='logloss',\n",
    "    scale_pos_weight=scale_pos_weight\n",
    ")\n",
    "\n",
    "# Dando um nome novo para não confundir com o anterior\n",
    "models[\"XGBoost (Optuna AUC ROC)\"] = xgb_optuna_model\n",
    "print(\"\\nModelo 'XGBoost (Optuna AUC ROC)' adicionado à lista para avaliação final.\")\n"
   ]
  },
  {
   "cell_type": "code",
   "execution_count": 14,
   "id": "0c81872f",
   "metadata": {},
   "outputs": [
    {
     "name": "stdout",
     "output_type": "stream",
     "text": [
      "Melhor pontuação (AUC ROC) na validação: 0.8912\n",
      "Melhores hiperparâmetros encontrados:\n",
      "{'learning_rate': 0.013481575603601416, 'max_depth': 9, 'subsample': 0.5998368910791798, 'colsample_bytree': 0.7571172192068059, 'gamma': 0.0005486767416600901, 'lambda': 2.535541638745669e-08, 'alpha': 0.0019275890163896973, 'min_child_weight': 2}\n",
      "Número ideal de estimadores (n_estimators) encontrado: 461\n"
     ]
    }
   ],
   "source": [
    "print(f\"Melhor pontuação (AUC ROC) na validação: {study.best_value:.4f}\")\n",
    "print(\"Melhores hiperparâmetros encontrados:\")\n",
    "print(study.best_params)\n",
    "\n",
    "print(f\"Número ideal de estimadores (n_estimators) encontrado: {study.best_trial.user_attrs['best_iteration']}\")"
   ]
  },
  {
   "cell_type": "code",
   "execution_count": 15,
   "id": "ff56f838",
   "metadata": {},
   "outputs": [
    {
     "name": "stdout",
     "output_type": "stream",
     "text": [
      "Treinando o modelo: Regressão Logística...\n",
      "Treinando o modelo: LDA...\n",
      "Treinando o modelo: KNN...\n",
      "Treinando o modelo: Gradient Boosting...\n",
      "Treinando o modelo: Árvore de Decisão...\n",
      "Treinando o modelo: Random Forest...\n",
      "Treinando o modelo: SVM...\n",
      "Treinando o modelo: XGBoost...\n",
      "Treinando o modelo: XGBoost (Equilibrado)...\n"
     ]
    },
    {
     "name": "stderr",
     "output_type": "stream",
     "text": [
      "c:\\Users\\Guilherme\\AppData\\Local\\Programs\\Python\\Python313\\Lib\\site-packages\\xgboost\\training.py:183: UserWarning: [22:18:06] WARNING: C:\\actions-runner\\_work\\xgboost\\xgboost\\src\\learner.cc:738: \n",
      "Parameters: { \"use_label_encoder\" } are not used.\n",
      "\n",
      "  bst.update(dtrain, iteration=i, fobj=obj)\n",
      "c:\\Users\\Guilherme\\AppData\\Local\\Programs\\Python\\Python313\\Lib\\site-packages\\xgboost\\training.py:183: UserWarning: [22:18:06] WARNING: C:\\actions-runner\\_work\\xgboost\\xgboost\\src\\learner.cc:738: \n",
      "Parameters: { \"use_label_encoder\" } are not used.\n",
      "\n",
      "  bst.update(dtrain, iteration=i, fobj=obj)\n"
     ]
    },
    {
     "name": "stdout",
     "output_type": "stream",
     "text": [
      "Treinando o modelo: LightGBM...\n",
      "[LightGBM] [Info] Number of positive: 3170, number of negative: 690\n",
      "[LightGBM] [Info] Auto-choosing col-wise multi-threading, the overhead of testing was 0.000472 seconds.\n",
      "You can set `force_col_wise=true` to remove the overhead.\n",
      "[LightGBM] [Info] Total Bins 8703\n",
      "[LightGBM] [Info] Number of data points in the train set: 3860, number of used features: 36\n",
      "[LightGBM] [Info] [binary:BoostFromScore]: pavg=0.500000 -> initscore=0.000000\n",
      "[LightGBM] [Info] Start training from score 0.000000\n",
      "Treinando o modelo: LightGBM (Tunado v3)...\n",
      "[LightGBM] [Info] Number of positive: 3170, number of negative: 690\n",
      "[LightGBM] [Info] Auto-choosing col-wise multi-threading, the overhead of testing was 0.000365 seconds.\n",
      "You can set `force_col_wise=true` to remove the overhead.\n",
      "[LightGBM] [Info] Total Bins 8703\n",
      "[LightGBM] [Info] Number of data points in the train set: 3860, number of used features: 36\n",
      "[LightGBM] [Info] [binary:BoostFromScore]: pavg=0.500000 -> initscore=0.000000\n",
      "[LightGBM] [Info] Start training from score 0.000000\n"
     ]
    },
    {
     "name": "stderr",
     "output_type": "stream",
     "text": [
      "c:\\Users\\Guilherme\\AppData\\Local\\Programs\\Python\\Python313\\Lib\\site-packages\\sklearn\\utils\\validation.py:2749: UserWarning: X does not have valid feature names, but LGBMClassifier was fitted with feature names\n",
      "  warnings.warn(\n",
      "c:\\Users\\Guilherme\\AppData\\Local\\Programs\\Python\\Python313\\Lib\\site-packages\\sklearn\\utils\\validation.py:2749: UserWarning: X does not have valid feature names, but LGBMClassifier was fitted with feature names\n",
      "  warnings.warn(\n",
      "c:\\Users\\Guilherme\\AppData\\Local\\Programs\\Python\\Python313\\Lib\\site-packages\\sklearn\\utils\\validation.py:2749: UserWarning: X does not have valid feature names, but LGBMClassifier was fitted with feature names\n",
      "  warnings.warn(\n",
      "c:\\Users\\Guilherme\\AppData\\Local\\Programs\\Python\\Python313\\Lib\\site-packages\\sklearn\\utils\\validation.py:2749: UserWarning: X does not have valid feature names, but LGBMClassifier was fitted with feature names\n",
      "  warnings.warn(\n"
     ]
    },
    {
     "name": "stdout",
     "output_type": "stream",
     "text": [
      "Treinando o modelo: XGBoost (Optuna AUC ROC)...\n",
      "\n",
      "Todos os modelos foram treinados e avaliados.\n"
     ]
    }
   ],
   "source": [
    "\n",
    "# Lista para armazenar os resultados de cada modelo\n",
    "results = []\n",
    "\n",
    "# Loop para treinar e avaliar cada modelo\n",
    "for name, model in models.items():\n",
    "\tprint(f\"Treinando o modelo: {name}...\")\n",
    "\n",
    "\t# Treinar o modelo\n",
    "\tmodel.fit(X_train_scaled, y_train)\n",
    "\n",
    "\t# Fazer previsões no conjunto de teste\n",
    "\ty_pred = model.predict(X_test_scaled)\n",
    "\ty_pred_proba = model.predict_proba(X_test_scaled)[:, 1] # Probabilidades para a classe positiva (1)\n",
    "\n",
    "\t# Calcular as métricas\n",
    "\taccuracy = accuracy_score(y_test, y_pred)\n",
    "\treport = classification_report(y_test, y_pred, output_dict=True)\n",
    "\troc_auc = roc_auc_score(y_test, y_pred_proba)\n",
    "\tprc_auc = average_precision_score(y_test, y_pred_proba)\n",
    "\n",
    "\t# Armazenar os resultados\n",
    "\tresults.append({\n",
    "\t\t\"Modelo\": name,\n",
    "\t\t\"AUC ROC\": roc_auc,\n",
    "\t\t\"AUC PRC\": prc_auc,\n",
    "\t\t\"Acurácia\": accuracy,\n",
    "\t\t\"Precisão (Planeta)\": report['1']['precision'],\n",
    "\t\t\"Recall (Planeta)\": report['1']['recall'],\n",
    "\t\t\"Precisão (FP)\": report['0']['precision'],\n",
    "\t\t\"Recall (FP)\": report['0']['recall'],\n",
    "\t\t\"F1-Score (Planeta)\": report['1']['f1-score'],\n",
    "\t\t\"F1-Score (FP)\": report['0']['f1-score'],\n",
    "\t\t\n",
    "\t})\n",
    "\n",
    "print(\"\\nTodos os modelos foram treinados e avaliados.\")"
   ]
  },
  {
   "cell_type": "code",
   "execution_count": 16,
   "id": "e4d61ba6",
   "metadata": {},
   "outputs": [
    {
     "data": {
      "text/html": [
       "<style type=\"text/css\">\n",
       "#T_2e46e_row0_col1, #T_2e46e_row0_col2, #T_2e46e_row0_col3, #T_2e46e_row1_col2, #T_2e46e_row3_col8 {\n",
       "  background-color: #fde725;\n",
       "  color: #000000;\n",
       "}\n",
       "#T_2e46e_row0_col8 {\n",
       "  background-color: #ece51b;\n",
       "  color: #000000;\n",
       "}\n",
       "#T_2e46e_row1_col1, #T_2e46e_row5_col8 {\n",
       "  background-color: #fbe723;\n",
       "  color: #000000;\n",
       "}\n",
       "#T_2e46e_row1_col3 {\n",
       "  background-color: #a5db36;\n",
       "  color: #000000;\n",
       "}\n",
       "#T_2e46e_row1_col8, #T_2e46e_row7_col2 {\n",
       "  background-color: #98d83e;\n",
       "  color: #000000;\n",
       "}\n",
       "#T_2e46e_row2_col1, #T_2e46e_row3_col1, #T_2e46e_row4_col2 {\n",
       "  background-color: #e5e419;\n",
       "  color: #000000;\n",
       "}\n",
       "#T_2e46e_row2_col2 {\n",
       "  background-color: #f1e51d;\n",
       "  color: #000000;\n",
       "}\n",
       "#T_2e46e_row2_col3 {\n",
       "  background-color: #e2e418;\n",
       "  color: #000000;\n",
       "}\n",
       "#T_2e46e_row2_col8 {\n",
       "  background-color: #d0e11c;\n",
       "  color: #000000;\n",
       "}\n",
       "#T_2e46e_row3_col2 {\n",
       "  background-color: #e7e419;\n",
       "  color: #000000;\n",
       "}\n",
       "#T_2e46e_row3_col3, #T_2e46e_row5_col2 {\n",
       "  background-color: #efe51c;\n",
       "  color: #000000;\n",
       "}\n",
       "#T_2e46e_row4_col1, #T_2e46e_row5_col1 {\n",
       "  background-color: #dfe318;\n",
       "  color: #000000;\n",
       "}\n",
       "#T_2e46e_row4_col3, #T_2e46e_row5_col3 {\n",
       "  background-color: #f4e61e;\n",
       "  color: #000000;\n",
       "}\n",
       "#T_2e46e_row4_col8, #T_2e46e_row6_col2 {\n",
       "  background-color: #eae51a;\n",
       "  color: #000000;\n",
       "}\n",
       "#T_2e46e_row6_col1 {\n",
       "  background-color: #dae319;\n",
       "  color: #000000;\n",
       "}\n",
       "#T_2e46e_row6_col3 {\n",
       "  background-color: #bddf26;\n",
       "  color: #000000;\n",
       "}\n",
       "#T_2e46e_row6_col8 {\n",
       "  background-color: #b8de29;\n",
       "  color: #000000;\n",
       "}\n",
       "#T_2e46e_row7_col1 {\n",
       "  background-color: #8ed645;\n",
       "  color: #000000;\n",
       "}\n",
       "#T_2e46e_row7_col3 {\n",
       "  background-color: #1f998a;\n",
       "  color: #f1f1f1;\n",
       "}\n",
       "#T_2e46e_row7_col8 {\n",
       "  background-color: #1f958b;\n",
       "  color: #f1f1f1;\n",
       "}\n",
       "#T_2e46e_row8_col1, #T_2e46e_row9_col1 {\n",
       "  background-color: #24aa83;\n",
       "  color: #f1f1f1;\n",
       "}\n",
       "#T_2e46e_row8_col2, #T_2e46e_row9_col2 {\n",
       "  background-color: #37b878;\n",
       "  color: #f1f1f1;\n",
       "}\n",
       "#T_2e46e_row8_col3 {\n",
       "  background-color: #69cd5b;\n",
       "  color: #000000;\n",
       "}\n",
       "#T_2e46e_row8_col8 {\n",
       "  background-color: #95d840;\n",
       "  color: #000000;\n",
       "}\n",
       "#T_2e46e_row9_col3, #T_2e46e_row9_col8, #T_2e46e_row11_col1, #T_2e46e_row11_col2 {\n",
       "  background-color: #440154;\n",
       "  color: #f1f1f1;\n",
       "}\n",
       "#T_2e46e_row10_col1 {\n",
       "  background-color: #20928c;\n",
       "  color: #f1f1f1;\n",
       "}\n",
       "#T_2e46e_row10_col2 {\n",
       "  background-color: #25838e;\n",
       "  color: #f1f1f1;\n",
       "}\n",
       "#T_2e46e_row10_col3 {\n",
       "  background-color: #56c667;\n",
       "  color: #000000;\n",
       "}\n",
       "#T_2e46e_row10_col8 {\n",
       "  background-color: #86d549;\n",
       "  color: #000000;\n",
       "}\n",
       "#T_2e46e_row11_col3 {\n",
       "  background-color: #2d708e;\n",
       "  color: #f1f1f1;\n",
       "}\n",
       "#T_2e46e_row11_col8 {\n",
       "  background-color: #25858e;\n",
       "  color: #f1f1f1;\n",
       "}\n",
       "</style>\n",
       "<table id=\"T_2e46e\">\n",
       "  <thead>\n",
       "    <tr>\n",
       "      <th class=\"blank level0\" >&nbsp;</th>\n",
       "      <th id=\"T_2e46e_level0_col0\" class=\"col_heading level0 col0\" >Modelo</th>\n",
       "      <th id=\"T_2e46e_level0_col1\" class=\"col_heading level0 col1\" >AUC ROC</th>\n",
       "      <th id=\"T_2e46e_level0_col2\" class=\"col_heading level0 col2\" >AUC PRC</th>\n",
       "      <th id=\"T_2e46e_level0_col3\" class=\"col_heading level0 col3\" >Acurácia</th>\n",
       "      <th id=\"T_2e46e_level0_col4\" class=\"col_heading level0 col4\" >Precisão (Planeta)</th>\n",
       "      <th id=\"T_2e46e_level0_col5\" class=\"col_heading level0 col5\" >Recall (Planeta)</th>\n",
       "      <th id=\"T_2e46e_level0_col6\" class=\"col_heading level0 col6\" >Precisão (FP)</th>\n",
       "      <th id=\"T_2e46e_level0_col7\" class=\"col_heading level0 col7\" >Recall (FP)</th>\n",
       "      <th id=\"T_2e46e_level0_col8\" class=\"col_heading level0 col8\" >F1-Score (Planeta)</th>\n",
       "      <th id=\"T_2e46e_level0_col9\" class=\"col_heading level0 col9\" >F1-Score (FP)</th>\n",
       "    </tr>\n",
       "  </thead>\n",
       "  <tbody>\n",
       "    <tr>\n",
       "      <th id=\"T_2e46e_level0_row0\" class=\"row_heading level0 row0\" >8</th>\n",
       "      <td id=\"T_2e46e_row0_col0\" class=\"data row0 col0\" >XGBoost (Equilibrado)</td>\n",
       "      <td id=\"T_2e46e_row0_col1\" class=\"data row0 col1\" >0.8883</td>\n",
       "      <td id=\"T_2e46e_row0_col2\" class=\"data row0 col2\" >0.9700</td>\n",
       "      <td id=\"T_2e46e_row0_col3\" class=\"data row0 col3\" >0.8727</td>\n",
       "      <td id=\"T_2e46e_row0_col4\" class=\"data row0 col4\" >0.9198</td>\n",
       "      <td id=\"T_2e46e_row0_col5\" class=\"data row0 col5\" >0.9256</td>\n",
       "      <td id=\"T_2e46e_row0_col6\" class=\"data row0 col6\" >0.6488</td>\n",
       "      <td id=\"T_2e46e_row0_col7\" class=\"data row0 col7\" >0.6301</td>\n",
       "      <td id=\"T_2e46e_row0_col8\" class=\"data row0 col8\" >0.9227</td>\n",
       "      <td id=\"T_2e46e_row0_col9\" class=\"data row0 col9\" >0.6393</td>\n",
       "    </tr>\n",
       "    <tr>\n",
       "      <th id=\"T_2e46e_level0_row1\" class=\"row_heading level0 row1\" >11</th>\n",
       "      <td id=\"T_2e46e_row1_col0\" class=\"data row1 col0\" >XGBoost (Optuna AUC ROC)</td>\n",
       "      <td id=\"T_2e46e_row1_col1\" class=\"data row1 col1\" >0.8869</td>\n",
       "      <td id=\"T_2e46e_row1_col2\" class=\"data row1 col2\" >0.9696</td>\n",
       "      <td id=\"T_2e46e_row1_col3\" class=\"data row1 col3\" >0.8571</td>\n",
       "      <td id=\"T_2e46e_row1_col4\" class=\"data row1 col4\" >0.9215</td>\n",
       "      <td id=\"T_2e46e_row1_col5\" class=\"data row1 col5\" >0.9029</td>\n",
       "      <td id=\"T_2e46e_row1_col6\" class=\"data row1 col6\" >0.5926</td>\n",
       "      <td id=\"T_2e46e_row1_col7\" class=\"data row1 col7\" >0.6474</td>\n",
       "      <td id=\"T_2e46e_row1_col8\" class=\"data row1 col8\" >0.9121</td>\n",
       "      <td id=\"T_2e46e_row1_col9\" class=\"data row1 col9\" >0.6188</td>\n",
       "    </tr>\n",
       "    <tr>\n",
       "      <th id=\"T_2e46e_level0_row2\" class=\"row_heading level0 row2\" >9</th>\n",
       "      <td id=\"T_2e46e_row2_col0\" class=\"data row2 col0\" >LightGBM</td>\n",
       "      <td id=\"T_2e46e_row2_col1\" class=\"data row2 col1\" >0.8784</td>\n",
       "      <td id=\"T_2e46e_row2_col2\" class=\"data row2 col2\" >0.9677</td>\n",
       "      <td id=\"T_2e46e_row2_col3\" class=\"data row2 col3\" >0.8675</td>\n",
       "      <td id=\"T_2e46e_row2_col4\" class=\"data row2 col4\" >0.9204</td>\n",
       "      <td id=\"T_2e46e_row2_col5\" class=\"data row2 col5\" >0.9180</td>\n",
       "      <td id=\"T_2e46e_row2_col6\" class=\"data row2 col6\" >0.6286</td>\n",
       "      <td id=\"T_2e46e_row2_col7\" class=\"data row2 col7\" >0.6358</td>\n",
       "      <td id=\"T_2e46e_row2_col8\" class=\"data row2 col8\" >0.9192</td>\n",
       "      <td id=\"T_2e46e_row2_col9\" class=\"data row2 col9\" >0.6322</td>\n",
       "    </tr>\n",
       "    <tr>\n",
       "      <th id=\"T_2e46e_level0_row3\" class=\"row_heading level0 row3\" >5</th>\n",
       "      <td id=\"T_2e46e_row3_col0\" class=\"data row3 col0\" >Random Forest</td>\n",
       "      <td id=\"T_2e46e_row3_col1\" class=\"data row3 col1\" >0.8781</td>\n",
       "      <td id=\"T_2e46e_row3_col2\" class=\"data row3 col2\" >0.9660</td>\n",
       "      <td id=\"T_2e46e_row3_col3\" class=\"data row3 col3\" >0.8696</td>\n",
       "      <td id=\"T_2e46e_row3_col4\" class=\"data row3 col4\" >0.8751</td>\n",
       "      <td id=\"T_2e46e_row3_col5\" class=\"data row3 col5\" >0.9811</td>\n",
       "      <td id=\"T_2e46e_row3_col6\" class=\"data row3 col6\" >0.8052</td>\n",
       "      <td id=\"T_2e46e_row3_col7\" class=\"data row3 col7\" >0.3584</td>\n",
       "      <td id=\"T_2e46e_row3_col8\" class=\"data row3 col8\" >0.9251</td>\n",
       "      <td id=\"T_2e46e_row3_col9\" class=\"data row3 col9\" >0.4960</td>\n",
       "    </tr>\n",
       "    <tr>\n",
       "      <th id=\"T_2e46e_level0_row4\" class=\"row_heading level0 row4\" >10</th>\n",
       "      <td id=\"T_2e46e_row4_col0\" class=\"data row4 col0\" >LightGBM (Tunado v3)</td>\n",
       "      <td id=\"T_2e46e_row4_col1\" class=\"data row4 col1\" >0.8766</td>\n",
       "      <td id=\"T_2e46e_row4_col2\" class=\"data row4 col2\" >0.9654</td>\n",
       "      <td id=\"T_2e46e_row4_col3\" class=\"data row4 col3\" >0.8706</td>\n",
       "      <td id=\"T_2e46e_row4_col4\" class=\"data row4 col4\" >0.9103</td>\n",
       "      <td id=\"T_2e46e_row4_col5\" class=\"data row4 col5\" >0.9344</td>\n",
       "      <td id=\"T_2e46e_row4_col6\" class=\"data row4 col6\" >0.6579</td>\n",
       "      <td id=\"T_2e46e_row4_col7\" class=\"data row4 col7\" >0.5780</td>\n",
       "      <td id=\"T_2e46e_row4_col8\" class=\"data row4 col8\" >0.9222</td>\n",
       "      <td id=\"T_2e46e_row4_col9\" class=\"data row4 col9\" >0.6154</td>\n",
       "    </tr>\n",
       "    <tr>\n",
       "      <th id=\"T_2e46e_level0_row5\" class=\"row_heading level0 row5\" >3</th>\n",
       "      <td id=\"T_2e46e_row5_col0\" class=\"data row5 col0\" >Gradient Boosting</td>\n",
       "      <td id=\"T_2e46e_row5_col1\" class=\"data row5 col1\" >0.8759</td>\n",
       "      <td id=\"T_2e46e_row5_col2\" class=\"data row5 col2\" >0.9674</td>\n",
       "      <td id=\"T_2e46e_row5_col3\" class=\"data row5 col3\" >0.8706</td>\n",
       "      <td id=\"T_2e46e_row5_col4\" class=\"data row5 col4\" >0.8866</td>\n",
       "      <td id=\"T_2e46e_row5_col5\" class=\"data row5 col5\" >0.9660</td>\n",
       "      <td id=\"T_2e46e_row5_col6\" class=\"data row5 col6\" >0.7353</td>\n",
       "      <td id=\"T_2e46e_row5_col7\" class=\"data row5 col7\" >0.4335</td>\n",
       "      <td id=\"T_2e46e_row5_col8\" class=\"data row5 col8\" >0.9246</td>\n",
       "      <td id=\"T_2e46e_row5_col9\" class=\"data row5 col9\" >0.5455</td>\n",
       "    </tr>\n",
       "    <tr>\n",
       "      <th id=\"T_2e46e_level0_row6\" class=\"row_heading level0 row6\" >7</th>\n",
       "      <td id=\"T_2e46e_row6_col0\" class=\"data row6 col0\" >XGBoost</td>\n",
       "      <td id=\"T_2e46e_row6_col1\" class=\"data row6 col1\" >0.8739</td>\n",
       "      <td id=\"T_2e46e_row6_col2\" class=\"data row6 col2\" >0.9665</td>\n",
       "      <td id=\"T_2e46e_row6_col3\" class=\"data row6 col3\" >0.8613</td>\n",
       "      <td id=\"T_2e46e_row6_col4\" class=\"data row6 col4\" >0.9093</td>\n",
       "      <td id=\"T_2e46e_row6_col5\" class=\"data row6 col5\" >0.9231</td>\n",
       "      <td id=\"T_2e46e_row6_col6\" class=\"data row6 col6\" >0.6211</td>\n",
       "      <td id=\"T_2e46e_row6_col7\" class=\"data row6 col7\" >0.5780</td>\n",
       "      <td id=\"T_2e46e_row6_col8\" class=\"data row6 col8\" >0.9161</td>\n",
       "      <td id=\"T_2e46e_row6_col9\" class=\"data row6 col9\" >0.5988</td>\n",
       "    </tr>\n",
       "    <tr>\n",
       "      <th id=\"T_2e46e_level0_row7\" class=\"row_heading level0 row7\" >6</th>\n",
       "      <td id=\"T_2e46e_row7_col0\" class=\"data row7 col0\" >SVM</td>\n",
       "      <td id=\"T_2e46e_row7_col1\" class=\"data row7 col1\" >0.8459</td>\n",
       "      <td id=\"T_2e46e_row7_col2\" class=\"data row7 col2\" >0.9534</td>\n",
       "      <td id=\"T_2e46e_row7_col3\" class=\"data row7 col3\" >0.8199</td>\n",
       "      <td id=\"T_2e46e_row7_col4\" class=\"data row7 col4\" >0.9269</td>\n",
       "      <td id=\"T_2e46e_row7_col5\" class=\"data row7 col5\" >0.8474</td>\n",
       "      <td id=\"T_2e46e_row7_col6\" class=\"data row7 col6\" >0.4979</td>\n",
       "      <td id=\"T_2e46e_row7_col7\" class=\"data row7 col7\" >0.6936</td>\n",
       "      <td id=\"T_2e46e_row7_col8\" class=\"data row7 col8\" >0.8854</td>\n",
       "      <td id=\"T_2e46e_row7_col9\" class=\"data row7 col9\" >0.5797</td>\n",
       "    </tr>\n",
       "    <tr>\n",
       "      <th id=\"T_2e46e_level0_row8\" class=\"row_heading level0 row8\" >1</th>\n",
       "      <td id=\"T_2e46e_row8_col0\" class=\"data row8 col0\" >LDA</td>\n",
       "      <td id=\"T_2e46e_row8_col1\" class=\"data row8 col1\" >0.7906</td>\n",
       "      <td id=\"T_2e46e_row8_col2\" class=\"data row8 col2\" >0.9349</td>\n",
       "      <td id=\"T_2e46e_row8_col3\" class=\"data row8 col3\" >0.8468</td>\n",
       "      <td id=\"T_2e46e_row8_col4\" class=\"data row8 col4\" >0.8644</td>\n",
       "      <td id=\"T_2e46e_row8_col5\" class=\"data row8 col5\" >0.9647</td>\n",
       "      <td id=\"T_2e46e_row8_col6\" class=\"data row8 col6\" >0.6543</td>\n",
       "      <td id=\"T_2e46e_row8_col7\" class=\"data row8 col7\" >0.3064</td>\n",
       "      <td id=\"T_2e46e_row8_col8\" class=\"data row8 col8\" >0.9118</td>\n",
       "      <td id=\"T_2e46e_row8_col9\" class=\"data row8 col9\" >0.4173</td>\n",
       "    </tr>\n",
       "    <tr>\n",
       "      <th id=\"T_2e46e_level0_row9\" class=\"row_heading level0 row9\" >0</th>\n",
       "      <td id=\"T_2e46e_row9_col0\" class=\"data row9 col0\" >Regressão Logística</td>\n",
       "      <td id=\"T_2e46e_row9_col1\" class=\"data row9 col1\" >0.7900</td>\n",
       "      <td id=\"T_2e46e_row9_col2\" class=\"data row9 col2\" >0.9351</td>\n",
       "      <td id=\"T_2e46e_row9_col3\" class=\"data row9 col3\" >0.7588</td>\n",
       "      <td id=\"T_2e46e_row9_col4\" class=\"data row9 col4\" >0.9118</td>\n",
       "      <td id=\"T_2e46e_row9_col5\" class=\"data row9 col5\" >0.7818</td>\n",
       "      <td id=\"T_2e46e_row9_col6\" class=\"data row9 col6\" >0.3951</td>\n",
       "      <td id=\"T_2e46e_row9_col7\" class=\"data row9 col7\" >0.6532</td>\n",
       "      <td id=\"T_2e46e_row9_col8\" class=\"data row9 col8\" >0.8418</td>\n",
       "      <td id=\"T_2e46e_row9_col9\" class=\"data row9 col9\" >0.4924</td>\n",
       "    </tr>\n",
       "    <tr>\n",
       "      <th id=\"T_2e46e_level0_row10\" class=\"row_heading level0 row10\" >2</th>\n",
       "      <td id=\"T_2e46e_row10_col0\" class=\"data row10 col0\" >KNN</td>\n",
       "      <td id=\"T_2e46e_row10_col1\" class=\"data row10 col1\" >0.7656</td>\n",
       "      <td id=\"T_2e46e_row10_col2\" class=\"data row10 col2\" >0.9113</td>\n",
       "      <td id=\"T_2e46e_row10_col3\" class=\"data row10 col3\" >0.8427</td>\n",
       "      <td id=\"T_2e46e_row10_col4\" class=\"data row10 col4\" >0.8589</td>\n",
       "      <td id=\"T_2e46e_row10_col5\" class=\"data row10 col5\" >0.9672</td>\n",
       "      <td id=\"T_2e46e_row10_col6\" class=\"data row10 col6\" >0.6438</td>\n",
       "      <td id=\"T_2e46e_row10_col7\" class=\"data row10 col7\" >0.2717</td>\n",
       "      <td id=\"T_2e46e_row10_col8\" class=\"data row10 col8\" >0.9098</td>\n",
       "      <td id=\"T_2e46e_row10_col9\" class=\"data row10 col9\" >0.3821</td>\n",
       "    </tr>\n",
       "    <tr>\n",
       "      <th id=\"T_2e46e_level0_row11\" class=\"row_heading level0 row11\" >4</th>\n",
       "      <td id=\"T_2e46e_row11_col0\" class=\"data row11 col0\" >Árvore de Decisão</td>\n",
       "      <td id=\"T_2e46e_row11_col1\" class=\"data row11 col1\" >0.6388</td>\n",
       "      <td id=\"T_2e46e_row11_col2\" class=\"data row11 col2\" >0.8641</td>\n",
       "      <td id=\"T_2e46e_row11_col3\" class=\"data row11 col3\" >0.8002</td>\n",
       "      <td id=\"T_2e46e_row11_col4\" class=\"data row11 col4\" >0.8695</td>\n",
       "      <td id=\"T_2e46e_row11_col5\" class=\"data row11 col5\" >0.8903</td>\n",
       "      <td id=\"T_2e46e_row11_col6\" class=\"data row11 col6\" >0.4351</td>\n",
       "      <td id=\"T_2e46e_row11_col7\" class=\"data row11 col7\" >0.3873</td>\n",
       "      <td id=\"T_2e46e_row11_col8\" class=\"data row11 col8\" >0.8798</td>\n",
       "      <td id=\"T_2e46e_row11_col9\" class=\"data row11 col9\" >0.4098</td>\n",
       "    </tr>\n",
       "  </tbody>\n",
       "</table>\n"
      ],
      "text/plain": [
       "<pandas.io.formats.style.Styler at 0x22831dfe510>"
      ]
     },
     "metadata": {},
     "output_type": "display_data"
    }
   ],
   "source": [
    "# %%\n",
    "# Criar um DataFrame com os resultados\n",
    "results_df = pd.DataFrame(results)\n",
    "\n",
    "# Ordenar o DataFrame pelo AUC ROC para ver os melhores modelos primeiro\n",
    "results_df_sorted = results_df.sort_values(by=\"AUC ROC\", ascending=False)\n",
    "\n",
    "# Exibir a tabela de resultados formatada\n",
    "display(results_df_sorted.style.format({\n",
    "\t'Acurácia': '{:.4f}',\n",
    "\t'Acurácia (FP)': '{:.4f}',\n",
    "\t'Precisão (Planeta)': '{:.4f}',\n",
    "\t'Recall (Planeta)': '{:.4f}',\n",
    "\t'Precisão (FP)': '{:.4f}',\n",
    "\t'Recall (FP)': '{:.4f}',\n",
    "\t'F1-Score (Planeta)': '{:.4f}',\n",
    "\t'F1-Score (FP)': '{:.4f}',\n",
    "\t'AUC ROC': '{:.4f}',\n",
    "\t'AUC PRC': '{:.4f}'\n",
    "}).background_gradient(cmap='viridis', subset=['Acurácia', 'F1-Score (Planeta)', 'AUC ROC', 'AUC PRC']))\n",
    "\n"
   ]
  }
 ],
 "metadata": {
  "kernelspec": {
   "display_name": "Python 3",
   "language": "python",
   "name": "python3"
  },
  "language_info": {
   "codemirror_mode": {
    "name": "ipython",
    "version": 3
   },
   "file_extension": ".py",
   "mimetype": "text/x-python",
   "name": "python",
   "nbconvert_exporter": "python",
   "pygments_lexer": "ipython3",
   "version": "3.13.7"
  }
 },
 "nbformat": 4,
 "nbformat_minor": 5
}
